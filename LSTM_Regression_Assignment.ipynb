{
  "cells": [
    {
      "cell_type": "markdown",
      "id": "699648d0",
      "metadata": {
        "id": "699648d0"
      },
      "source": [
        "# Long Short Term Memory Networks for IoT Prediction\n",
        "\n",
        "RNNs and LSTM models are very popular neural network architectures when working with sequential data, since they both carry some \"memory\" of previous inputs when predicting the next output. In this assignment we will continue to work with the Household Electricity Consumption dataset and use an LSTM model to predict the Global Active Power (GAP) from a sequence of previous GAP readings. You will build one model following the directions in this notebook closely, then you will be asked to make changes to that original model and analyze the effects that they had on the model performance. You will also be asked to compare the performance of your LSTM model to the linear regression predictor that you built in last week's assignment.\n",
        "\n",
        "## General Assignment Instructions\n",
        "\n",
        "These instructions are included in every assignment, to remind you of the coding standards for the class. Feel free to delete this cell after reading it.\n",
        "\n",
        "One sign of mature code is conforming to a style guide. We recommend the [Google Python Style Guide](https://google.github.io/styleguide/pyguide.html). If you use a different style guide, please include a cell with a link.\n",
        "\n",
        "Your code should be relatively easy-to-read, sensibly commented, and clean. Writing code is a messy process, so please be sure to edit your final submission. Remove any cells that are not needed or parts of cells that contain unnecessary code. Remove inessential `import` statements and make sure that all such statements are moved into the designated cell.\n",
        "\n",
        "When you save your notebook as a pdf, make sure that all cell output is visible (even error messages) as this will aid your instructor in grading your work.\n",
        "\n",
        "Make use of non-code cells for written commentary. These cells should be grammatical and clearly written. In some of these cells you will have questions to answer. The questions will be marked by a \"Q:\" and will have a corresponding \"A:\" spot for you. *Make sure to answer every question marked with a `Q:` for full credit.*"
      ]
    },
    {
      "cell_type": "code",
      "execution_count": 1,
      "id": "96422f5e",
      "metadata": {
        "id": "96422f5e"
      },
      "outputs": [],
      "source": [
        "import pandas as pd\n",
        "import numpy as np\n",
        "import matplotlib.pyplot as plt\n",
        "import os\n",
        "import random\n",
        "from google.colab import files\n",
        "import tensorflow as tf\n",
        "from tensorflow import keras\n",
        "from tensorflow.keras.models import Sequential\n",
        "from keras.models import Sequential\n",
        "from keras.layers import Dense, Dropout, LSTM, Activation\n",
        "from keras.utils import pad_sequences\n",
        "\n",
        "# Setting seed for reproducibility\n",
        "np.random.seed(1234)\n",
        "PYTHONHASHSEED = 0\n",
        "\n",
        "from sklearn import preprocessing\n",
        "from sklearn.metrics import confusion_matrix, recall_score, precision_score\n",
        "from sklearn.model_selection import train_test_split\n",
        "from keras.models import Sequential,load_model\n",
        "from keras.layers import Dense, Dropout, LSTM, Activation\n",
        "from keras.utils import pad_sequences"
      ]
    },
    {
      "cell_type": "code",
      "execution_count": 2,
      "id": "cb722f08",
      "metadata": {
        "id": "cb722f08"
      },
      "outputs": [],
      "source": [
        "#use this cell to import additional libraries or define helper functions\n",
        "\n",
        "import zipfile\n",
        "import io"
      ]
    },
    {
      "cell_type": "code",
      "source": [
        "!pip install --upgrade tensorflow\n"
      ],
      "metadata": {
        "id": "VnxmiCEp_V1m"
      },
      "id": "VnxmiCEp_V1m",
      "execution_count": null,
      "outputs": []
    },
    {
      "cell_type": "code",
      "source": [],
      "metadata": {
        "id": "nD_FI6ul_bIV"
      },
      "id": "nD_FI6ul_bIV",
      "execution_count": null,
      "outputs": []
    },
    {
      "cell_type": "markdown",
      "id": "93d897e4",
      "metadata": {
        "id": "93d897e4"
      },
      "source": [
        "## Load and prepare your data\n",
        "\n",
        "We'll once again be using the cleaned household electricity consumption data from the previous two assignments. I recommend saving your dataset by running df.to_csv(\"filename\") at the end of assignment 2 so that you don't have to re-do your cleaning steps. If you are not confident in your own cleaning steps, you may ask your instructor for a cleaned version of the data. You will not be graded on the cleaning steps in this assignment, but some functions may not work if you use the raw data.\n",
        "\n",
        "Unlike when using Linear Regression to make our predictions for Global Active Power (GAP), LSTM requires that we have a pre-trained model when our predictive software is shipped (the ability to iterate on the model after it's put into production is another question for another day). Thus, we will train the model on a segment of our data and then measure its performance on simulated streaming data another segment of the data. Our dataset is very large, so for speed's sake, we will limit ourselves to 1% of the entire dataset.\n",
        "\n",
        "**TODO: Import your data, select the a random 1% of the dataset, and then split it 80/20 into training and validation sets (the test split will come from the training data as part of the tensorflow LSTM model call). HINT: Think carefully about how you do your train/validation split--does it make sense to randomize the data?**"
      ]
    },
    {
      "cell_type": "code",
      "source": [
        "#Load your data into a pandas dataframe here\n",
        "uploaded = files.upload()\n",
        "\n",
        "\n"
      ],
      "metadata": {
        "colab": {
          "base_uri": "https://localhost:8080/",
          "height": 74
        },
        "id": "GpsWnHzwRhok",
        "outputId": "ee84a987-b48c-41a2-a1df-240e561a6d4c"
      },
      "id": "GpsWnHzwRhok",
      "execution_count": 25,
      "outputs": [
        {
          "output_type": "display_data",
          "data": {
            "text/plain": [
              "<IPython.core.display.HTML object>"
            ],
            "text/html": [
              "\n",
              "     <input type=\"file\" id=\"files-d18f2924-4d17-40ad-941c-b741512c7c02\" name=\"files[]\" multiple disabled\n",
              "        style=\"border:none\" />\n",
              "     <output id=\"result-d18f2924-4d17-40ad-941c-b741512c7c02\">\n",
              "      Upload widget is only available when the cell has been executed in the\n",
              "      current browser session. Please rerun this cell to enable.\n",
              "      </output>\n",
              "      <script>// Copyright 2017 Google LLC\n",
              "//\n",
              "// Licensed under the Apache License, Version 2.0 (the \"License\");\n",
              "// you may not use this file except in compliance with the License.\n",
              "// You may obtain a copy of the License at\n",
              "//\n",
              "//      http://www.apache.org/licenses/LICENSE-2.0\n",
              "//\n",
              "// Unless required by applicable law or agreed to in writing, software\n",
              "// distributed under the License is distributed on an \"AS IS\" BASIS,\n",
              "// WITHOUT WARRANTIES OR CONDITIONS OF ANY KIND, either express or implied.\n",
              "// See the License for the specific language governing permissions and\n",
              "// limitations under the License.\n",
              "\n",
              "/**\n",
              " * @fileoverview Helpers for google.colab Python module.\n",
              " */\n",
              "(function(scope) {\n",
              "function span(text, styleAttributes = {}) {\n",
              "  const element = document.createElement('span');\n",
              "  element.textContent = text;\n",
              "  for (const key of Object.keys(styleAttributes)) {\n",
              "    element.style[key] = styleAttributes[key];\n",
              "  }\n",
              "  return element;\n",
              "}\n",
              "\n",
              "// Max number of bytes which will be uploaded at a time.\n",
              "const MAX_PAYLOAD_SIZE = 100 * 1024;\n",
              "\n",
              "function _uploadFiles(inputId, outputId) {\n",
              "  const steps = uploadFilesStep(inputId, outputId);\n",
              "  const outputElement = document.getElementById(outputId);\n",
              "  // Cache steps on the outputElement to make it available for the next call\n",
              "  // to uploadFilesContinue from Python.\n",
              "  outputElement.steps = steps;\n",
              "\n",
              "  return _uploadFilesContinue(outputId);\n",
              "}\n",
              "\n",
              "// This is roughly an async generator (not supported in the browser yet),\n",
              "// where there are multiple asynchronous steps and the Python side is going\n",
              "// to poll for completion of each step.\n",
              "// This uses a Promise to block the python side on completion of each step,\n",
              "// then passes the result of the previous step as the input to the next step.\n",
              "function _uploadFilesContinue(outputId) {\n",
              "  const outputElement = document.getElementById(outputId);\n",
              "  const steps = outputElement.steps;\n",
              "\n",
              "  const next = steps.next(outputElement.lastPromiseValue);\n",
              "  return Promise.resolve(next.value.promise).then((value) => {\n",
              "    // Cache the last promise value to make it available to the next\n",
              "    // step of the generator.\n",
              "    outputElement.lastPromiseValue = value;\n",
              "    return next.value.response;\n",
              "  });\n",
              "}\n",
              "\n",
              "/**\n",
              " * Generator function which is called between each async step of the upload\n",
              " * process.\n",
              " * @param {string} inputId Element ID of the input file picker element.\n",
              " * @param {string} outputId Element ID of the output display.\n",
              " * @return {!Iterable<!Object>} Iterable of next steps.\n",
              " */\n",
              "function* uploadFilesStep(inputId, outputId) {\n",
              "  const inputElement = document.getElementById(inputId);\n",
              "  inputElement.disabled = false;\n",
              "\n",
              "  const outputElement = document.getElementById(outputId);\n",
              "  outputElement.innerHTML = '';\n",
              "\n",
              "  const pickedPromise = new Promise((resolve) => {\n",
              "    inputElement.addEventListener('change', (e) => {\n",
              "      resolve(e.target.files);\n",
              "    });\n",
              "  });\n",
              "\n",
              "  const cancel = document.createElement('button');\n",
              "  inputElement.parentElement.appendChild(cancel);\n",
              "  cancel.textContent = 'Cancel upload';\n",
              "  const cancelPromise = new Promise((resolve) => {\n",
              "    cancel.onclick = () => {\n",
              "      resolve(null);\n",
              "    };\n",
              "  });\n",
              "\n",
              "  // Wait for the user to pick the files.\n",
              "  const files = yield {\n",
              "    promise: Promise.race([pickedPromise, cancelPromise]),\n",
              "    response: {\n",
              "      action: 'starting',\n",
              "    }\n",
              "  };\n",
              "\n",
              "  cancel.remove();\n",
              "\n",
              "  // Disable the input element since further picks are not allowed.\n",
              "  inputElement.disabled = true;\n",
              "\n",
              "  if (!files) {\n",
              "    return {\n",
              "      response: {\n",
              "        action: 'complete',\n",
              "      }\n",
              "    };\n",
              "  }\n",
              "\n",
              "  for (const file of files) {\n",
              "    const li = document.createElement('li');\n",
              "    li.append(span(file.name, {fontWeight: 'bold'}));\n",
              "    li.append(span(\n",
              "        `(${file.type || 'n/a'}) - ${file.size} bytes, ` +\n",
              "        `last modified: ${\n",
              "            file.lastModifiedDate ? file.lastModifiedDate.toLocaleDateString() :\n",
              "                                    'n/a'} - `));\n",
              "    const percent = span('0% done');\n",
              "    li.appendChild(percent);\n",
              "\n",
              "    outputElement.appendChild(li);\n",
              "\n",
              "    const fileDataPromise = new Promise((resolve) => {\n",
              "      const reader = new FileReader();\n",
              "      reader.onload = (e) => {\n",
              "        resolve(e.target.result);\n",
              "      };\n",
              "      reader.readAsArrayBuffer(file);\n",
              "    });\n",
              "    // Wait for the data to be ready.\n",
              "    let fileData = yield {\n",
              "      promise: fileDataPromise,\n",
              "      response: {\n",
              "        action: 'continue',\n",
              "      }\n",
              "    };\n",
              "\n",
              "    // Use a chunked sending to avoid message size limits. See b/62115660.\n",
              "    let position = 0;\n",
              "    do {\n",
              "      const length = Math.min(fileData.byteLength - position, MAX_PAYLOAD_SIZE);\n",
              "      const chunk = new Uint8Array(fileData, position, length);\n",
              "      position += length;\n",
              "\n",
              "      const base64 = btoa(String.fromCharCode.apply(null, chunk));\n",
              "      yield {\n",
              "        response: {\n",
              "          action: 'append',\n",
              "          file: file.name,\n",
              "          data: base64,\n",
              "        },\n",
              "      };\n",
              "\n",
              "      let percentDone = fileData.byteLength === 0 ?\n",
              "          100 :\n",
              "          Math.round((position / fileData.byteLength) * 100);\n",
              "      percent.textContent = `${percentDone}% done`;\n",
              "\n",
              "    } while (position < fileData.byteLength);\n",
              "  }\n",
              "\n",
              "  // All done.\n",
              "  yield {\n",
              "    response: {\n",
              "      action: 'complete',\n",
              "    }\n",
              "  };\n",
              "}\n",
              "\n",
              "scope.google = scope.google || {};\n",
              "scope.google.colab = scope.google.colab || {};\n",
              "scope.google.colab._files = {\n",
              "  _uploadFiles,\n",
              "  _uploadFilesContinue,\n",
              "};\n",
              "})(self);\n",
              "</script> "
            ]
          },
          "metadata": {}
        },
        {
          "output_type": "stream",
          "name": "stdout",
          "text": [
            "Saving electricdataoutputfrommodule3.zip to electricdataoutputfrommodule3 (4).zip\n"
          ]
        }
      ]
    },
    {
      "cell_type": "code",
      "source": [
        "\n",
        "for fn in uploaded.keys():\n",
        "  if fn.endswith('.zip'):\n",
        "    zip_ref = zipfile.ZipFile(io.BytesIO(uploaded[fn]))\n",
        "    zip_ref.extractall()\n",
        "    zip_ref.close()\n",
        "\n",
        "# Assuming the CSV file is named 'your_file.csv'\n",
        "# Replace with the actual name of your CSV file\n",
        "\n",
        "csv_files = [f for f in os.listdir('.') if f.endswith('.csv')]\n",
        "\n",
        "if csv_files:\n",
        "  df = pd.read_csv(csv_files[0]) # Read the first CSV file found\n",
        "  # Proceed with your data processing and model training using 'df'\n",
        "  print(f\"Loaded data from {csv_files[0]}\")\n",
        "else:\n",
        "  print(\"No CSV files found in the uploaded zip file\")\n",
        "  # Handle the case where no CSV file is found\n",
        "\n",
        "\n",
        "# ... Rest of your code to process the dataframe 'df' ...\n",
        "# Example: Select 1% of the dataset, split into training and validation sets\n",
        "# Remember to account for the time-series nature of the data when splitting"
      ],
      "metadata": {
        "id": "0qzYS2yekG7-"
      },
      "id": "0qzYS2yekG7-",
      "execution_count": null,
      "outputs": []
    },
    {
      "cell_type": "code",
      "source": [
        "df.head()"
      ],
      "metadata": {
        "colab": {
          "base_uri": "https://localhost:8080/",
          "height": 417
        },
        "id": "zcPaXo17YhOw",
        "outputId": "d4380f7f-3432-4cc5-920c-00d6848c525b"
      },
      "id": "zcPaXo17YhOw",
      "execution_count": 27,
      "outputs": [
        {
          "output_type": "execute_result",
          "data": {
            "text/plain": [
              "   Unnamed: 0        Date      Time  Global_active_power  \\\n",
              "0          29  2006-12-16  17:53:00                3.178   \n",
              "1          30  2006-12-16  17:54:00                2.720   \n",
              "2          31  2006-12-16  17:55:00                3.758   \n",
              "3          32  2006-12-16  17:56:00                4.342   \n",
              "4          33  2006-12-16  17:57:00                4.512   \n",
              "\n",
              "   Global_reactive_power  Voltage  Global_intensity  Sub_metering_1  \\\n",
              "0                  0.000   235.28              13.4             0.0   \n",
              "1                  0.000   235.06              11.6             0.0   \n",
              "2                  0.076   234.17              16.4             0.0   \n",
              "3                  0.090   233.77              18.4             0.0   \n",
              "4                  0.000   233.62              19.2             0.0   \n",
              "\n",
              "   Sub_metering_2  Sub_metering_3             Datetime  gap_monthly  \\\n",
              "0             0.0            17.0  2006-12-16 17:53:00     4.338733   \n",
              "1             0.0            17.0  2006-12-16 17:54:00     4.288867   \n",
              "2             0.0            17.0  2006-12-16 17:55:00     4.235467   \n",
              "3             0.0            16.0  2006-12-16 17:56:00     4.201067   \n",
              "4             0.0            17.0  2006-12-16 17:57:00     4.171867   \n",
              "\n",
              "   grp_monthly   v_monthly  gi_monthly        unix  Voltage_MA  Hour  \n",
              "0     0.260667  234.631333   18.600000  1166227200  234.631333     0  \n",
              "1     0.246733  234.638667   18.373333  1166227200  234.638667     0  \n",
              "2     0.234733  234.656667   18.153333  1166227200  234.656667     0  \n",
              "3     0.221133  234.672667   18.000000  1166227200  234.672667     0  \n",
              "4     0.204400  234.668667   17.873333  1166227200  234.668667     0  "
            ],
            "text/html": [
              "\n",
              "  <div id=\"df-94b80070-f968-473b-ac5f-24b2fc424ce7\" class=\"colab-df-container\">\n",
              "    <div>\n",
              "<style scoped>\n",
              "    .dataframe tbody tr th:only-of-type {\n",
              "        vertical-align: middle;\n",
              "    }\n",
              "\n",
              "    .dataframe tbody tr th {\n",
              "        vertical-align: top;\n",
              "    }\n",
              "\n",
              "    .dataframe thead th {\n",
              "        text-align: right;\n",
              "    }\n",
              "</style>\n",
              "<table border=\"1\" class=\"dataframe\">\n",
              "  <thead>\n",
              "    <tr style=\"text-align: right;\">\n",
              "      <th></th>\n",
              "      <th>Unnamed: 0</th>\n",
              "      <th>Date</th>\n",
              "      <th>Time</th>\n",
              "      <th>Global_active_power</th>\n",
              "      <th>Global_reactive_power</th>\n",
              "      <th>Voltage</th>\n",
              "      <th>Global_intensity</th>\n",
              "      <th>Sub_metering_1</th>\n",
              "      <th>Sub_metering_2</th>\n",
              "      <th>Sub_metering_3</th>\n",
              "      <th>Datetime</th>\n",
              "      <th>gap_monthly</th>\n",
              "      <th>grp_monthly</th>\n",
              "      <th>v_monthly</th>\n",
              "      <th>gi_monthly</th>\n",
              "      <th>unix</th>\n",
              "      <th>Voltage_MA</th>\n",
              "      <th>Hour</th>\n",
              "    </tr>\n",
              "  </thead>\n",
              "  <tbody>\n",
              "    <tr>\n",
              "      <th>0</th>\n",
              "      <td>29</td>\n",
              "      <td>2006-12-16</td>\n",
              "      <td>17:53:00</td>\n",
              "      <td>3.178</td>\n",
              "      <td>0.000</td>\n",
              "      <td>235.28</td>\n",
              "      <td>13.4</td>\n",
              "      <td>0.0</td>\n",
              "      <td>0.0</td>\n",
              "      <td>17.0</td>\n",
              "      <td>2006-12-16 17:53:00</td>\n",
              "      <td>4.338733</td>\n",
              "      <td>0.260667</td>\n",
              "      <td>234.631333</td>\n",
              "      <td>18.600000</td>\n",
              "      <td>1166227200</td>\n",
              "      <td>234.631333</td>\n",
              "      <td>0</td>\n",
              "    </tr>\n",
              "    <tr>\n",
              "      <th>1</th>\n",
              "      <td>30</td>\n",
              "      <td>2006-12-16</td>\n",
              "      <td>17:54:00</td>\n",
              "      <td>2.720</td>\n",
              "      <td>0.000</td>\n",
              "      <td>235.06</td>\n",
              "      <td>11.6</td>\n",
              "      <td>0.0</td>\n",
              "      <td>0.0</td>\n",
              "      <td>17.0</td>\n",
              "      <td>2006-12-16 17:54:00</td>\n",
              "      <td>4.288867</td>\n",
              "      <td>0.246733</td>\n",
              "      <td>234.638667</td>\n",
              "      <td>18.373333</td>\n",
              "      <td>1166227200</td>\n",
              "      <td>234.638667</td>\n",
              "      <td>0</td>\n",
              "    </tr>\n",
              "    <tr>\n",
              "      <th>2</th>\n",
              "      <td>31</td>\n",
              "      <td>2006-12-16</td>\n",
              "      <td>17:55:00</td>\n",
              "      <td>3.758</td>\n",
              "      <td>0.076</td>\n",
              "      <td>234.17</td>\n",
              "      <td>16.4</td>\n",
              "      <td>0.0</td>\n",
              "      <td>0.0</td>\n",
              "      <td>17.0</td>\n",
              "      <td>2006-12-16 17:55:00</td>\n",
              "      <td>4.235467</td>\n",
              "      <td>0.234733</td>\n",
              "      <td>234.656667</td>\n",
              "      <td>18.153333</td>\n",
              "      <td>1166227200</td>\n",
              "      <td>234.656667</td>\n",
              "      <td>0</td>\n",
              "    </tr>\n",
              "    <tr>\n",
              "      <th>3</th>\n",
              "      <td>32</td>\n",
              "      <td>2006-12-16</td>\n",
              "      <td>17:56:00</td>\n",
              "      <td>4.342</td>\n",
              "      <td>0.090</td>\n",
              "      <td>233.77</td>\n",
              "      <td>18.4</td>\n",
              "      <td>0.0</td>\n",
              "      <td>0.0</td>\n",
              "      <td>16.0</td>\n",
              "      <td>2006-12-16 17:56:00</td>\n",
              "      <td>4.201067</td>\n",
              "      <td>0.221133</td>\n",
              "      <td>234.672667</td>\n",
              "      <td>18.000000</td>\n",
              "      <td>1166227200</td>\n",
              "      <td>234.672667</td>\n",
              "      <td>0</td>\n",
              "    </tr>\n",
              "    <tr>\n",
              "      <th>4</th>\n",
              "      <td>33</td>\n",
              "      <td>2006-12-16</td>\n",
              "      <td>17:57:00</td>\n",
              "      <td>4.512</td>\n",
              "      <td>0.000</td>\n",
              "      <td>233.62</td>\n",
              "      <td>19.2</td>\n",
              "      <td>0.0</td>\n",
              "      <td>0.0</td>\n",
              "      <td>17.0</td>\n",
              "      <td>2006-12-16 17:57:00</td>\n",
              "      <td>4.171867</td>\n",
              "      <td>0.204400</td>\n",
              "      <td>234.668667</td>\n",
              "      <td>17.873333</td>\n",
              "      <td>1166227200</td>\n",
              "      <td>234.668667</td>\n",
              "      <td>0</td>\n",
              "    </tr>\n",
              "  </tbody>\n",
              "</table>\n",
              "</div>\n",
              "    <div class=\"colab-df-buttons\">\n",
              "\n",
              "  <div class=\"colab-df-container\">\n",
              "    <button class=\"colab-df-convert\" onclick=\"convertToInteractive('df-94b80070-f968-473b-ac5f-24b2fc424ce7')\"\n",
              "            title=\"Convert this dataframe to an interactive table.\"\n",
              "            style=\"display:none;\">\n",
              "\n",
              "  <svg xmlns=\"http://www.w3.org/2000/svg\" height=\"24px\" viewBox=\"0 -960 960 960\">\n",
              "    <path d=\"M120-120v-720h720v720H120Zm60-500h600v-160H180v160Zm220 220h160v-160H400v160Zm0 220h160v-160H400v160ZM180-400h160v-160H180v160Zm440 0h160v-160H620v160ZM180-180h160v-160H180v160Zm440 0h160v-160H620v160Z\"/>\n",
              "  </svg>\n",
              "    </button>\n",
              "\n",
              "  <style>\n",
              "    .colab-df-container {\n",
              "      display:flex;\n",
              "      gap: 12px;\n",
              "    }\n",
              "\n",
              "    .colab-df-convert {\n",
              "      background-color: #E8F0FE;\n",
              "      border: none;\n",
              "      border-radius: 50%;\n",
              "      cursor: pointer;\n",
              "      display: none;\n",
              "      fill: #1967D2;\n",
              "      height: 32px;\n",
              "      padding: 0 0 0 0;\n",
              "      width: 32px;\n",
              "    }\n",
              "\n",
              "    .colab-df-convert:hover {\n",
              "      background-color: #E2EBFA;\n",
              "      box-shadow: 0px 1px 2px rgba(60, 64, 67, 0.3), 0px 1px 3px 1px rgba(60, 64, 67, 0.15);\n",
              "      fill: #174EA6;\n",
              "    }\n",
              "\n",
              "    .colab-df-buttons div {\n",
              "      margin-bottom: 4px;\n",
              "    }\n",
              "\n",
              "    [theme=dark] .colab-df-convert {\n",
              "      background-color: #3B4455;\n",
              "      fill: #D2E3FC;\n",
              "    }\n",
              "\n",
              "    [theme=dark] .colab-df-convert:hover {\n",
              "      background-color: #434B5C;\n",
              "      box-shadow: 0px 1px 3px 1px rgba(0, 0, 0, 0.15);\n",
              "      filter: drop-shadow(0px 1px 2px rgba(0, 0, 0, 0.3));\n",
              "      fill: #FFFFFF;\n",
              "    }\n",
              "  </style>\n",
              "\n",
              "    <script>\n",
              "      const buttonEl =\n",
              "        document.querySelector('#df-94b80070-f968-473b-ac5f-24b2fc424ce7 button.colab-df-convert');\n",
              "      buttonEl.style.display =\n",
              "        google.colab.kernel.accessAllowed ? 'block' : 'none';\n",
              "\n",
              "      async function convertToInteractive(key) {\n",
              "        const element = document.querySelector('#df-94b80070-f968-473b-ac5f-24b2fc424ce7');\n",
              "        const dataTable =\n",
              "          await google.colab.kernel.invokeFunction('convertToInteractive',\n",
              "                                                    [key], {});\n",
              "        if (!dataTable) return;\n",
              "\n",
              "        const docLinkHtml = 'Like what you see? Visit the ' +\n",
              "          '<a target=\"_blank\" href=https://colab.research.google.com/notebooks/data_table.ipynb>data table notebook</a>'\n",
              "          + ' to learn more about interactive tables.';\n",
              "        element.innerHTML = '';\n",
              "        dataTable['output_type'] = 'display_data';\n",
              "        await google.colab.output.renderOutput(dataTable, element);\n",
              "        const docLink = document.createElement('div');\n",
              "        docLink.innerHTML = docLinkHtml;\n",
              "        element.appendChild(docLink);\n",
              "      }\n",
              "    </script>\n",
              "  </div>\n",
              "\n",
              "\n",
              "<div id=\"df-46aee9a5-28ef-4a83-9810-01e0a06d016d\">\n",
              "  <button class=\"colab-df-quickchart\" onclick=\"quickchart('df-46aee9a5-28ef-4a83-9810-01e0a06d016d')\"\n",
              "            title=\"Suggest charts\"\n",
              "            style=\"display:none;\">\n",
              "\n",
              "<svg xmlns=\"http://www.w3.org/2000/svg\" height=\"24px\"viewBox=\"0 0 24 24\"\n",
              "     width=\"24px\">\n",
              "    <g>\n",
              "        <path d=\"M19 3H5c-1.1 0-2 .9-2 2v14c0 1.1.9 2 2 2h14c1.1 0 2-.9 2-2V5c0-1.1-.9-2-2-2zM9 17H7v-7h2v7zm4 0h-2V7h2v10zm4 0h-2v-4h2v4z\"/>\n",
              "    </g>\n",
              "</svg>\n",
              "  </button>\n",
              "\n",
              "<style>\n",
              "  .colab-df-quickchart {\n",
              "      --bg-color: #E8F0FE;\n",
              "      --fill-color: #1967D2;\n",
              "      --hover-bg-color: #E2EBFA;\n",
              "      --hover-fill-color: #174EA6;\n",
              "      --disabled-fill-color: #AAA;\n",
              "      --disabled-bg-color: #DDD;\n",
              "  }\n",
              "\n",
              "  [theme=dark] .colab-df-quickchart {\n",
              "      --bg-color: #3B4455;\n",
              "      --fill-color: #D2E3FC;\n",
              "      --hover-bg-color: #434B5C;\n",
              "      --hover-fill-color: #FFFFFF;\n",
              "      --disabled-bg-color: #3B4455;\n",
              "      --disabled-fill-color: #666;\n",
              "  }\n",
              "\n",
              "  .colab-df-quickchart {\n",
              "    background-color: var(--bg-color);\n",
              "    border: none;\n",
              "    border-radius: 50%;\n",
              "    cursor: pointer;\n",
              "    display: none;\n",
              "    fill: var(--fill-color);\n",
              "    height: 32px;\n",
              "    padding: 0;\n",
              "    width: 32px;\n",
              "  }\n",
              "\n",
              "  .colab-df-quickchart:hover {\n",
              "    background-color: var(--hover-bg-color);\n",
              "    box-shadow: 0 1px 2px rgba(60, 64, 67, 0.3), 0 1px 3px 1px rgba(60, 64, 67, 0.15);\n",
              "    fill: var(--button-hover-fill-color);\n",
              "  }\n",
              "\n",
              "  .colab-df-quickchart-complete:disabled,\n",
              "  .colab-df-quickchart-complete:disabled:hover {\n",
              "    background-color: var(--disabled-bg-color);\n",
              "    fill: var(--disabled-fill-color);\n",
              "    box-shadow: none;\n",
              "  }\n",
              "\n",
              "  .colab-df-spinner {\n",
              "    border: 2px solid var(--fill-color);\n",
              "    border-color: transparent;\n",
              "    border-bottom-color: var(--fill-color);\n",
              "    animation:\n",
              "      spin 1s steps(1) infinite;\n",
              "  }\n",
              "\n",
              "  @keyframes spin {\n",
              "    0% {\n",
              "      border-color: transparent;\n",
              "      border-bottom-color: var(--fill-color);\n",
              "      border-left-color: var(--fill-color);\n",
              "    }\n",
              "    20% {\n",
              "      border-color: transparent;\n",
              "      border-left-color: var(--fill-color);\n",
              "      border-top-color: var(--fill-color);\n",
              "    }\n",
              "    30% {\n",
              "      border-color: transparent;\n",
              "      border-left-color: var(--fill-color);\n",
              "      border-top-color: var(--fill-color);\n",
              "      border-right-color: var(--fill-color);\n",
              "    }\n",
              "    40% {\n",
              "      border-color: transparent;\n",
              "      border-right-color: var(--fill-color);\n",
              "      border-top-color: var(--fill-color);\n",
              "    }\n",
              "    60% {\n",
              "      border-color: transparent;\n",
              "      border-right-color: var(--fill-color);\n",
              "    }\n",
              "    80% {\n",
              "      border-color: transparent;\n",
              "      border-right-color: var(--fill-color);\n",
              "      border-bottom-color: var(--fill-color);\n",
              "    }\n",
              "    90% {\n",
              "      border-color: transparent;\n",
              "      border-bottom-color: var(--fill-color);\n",
              "    }\n",
              "  }\n",
              "</style>\n",
              "\n",
              "  <script>\n",
              "    async function quickchart(key) {\n",
              "      const quickchartButtonEl =\n",
              "        document.querySelector('#' + key + ' button');\n",
              "      quickchartButtonEl.disabled = true;  // To prevent multiple clicks.\n",
              "      quickchartButtonEl.classList.add('colab-df-spinner');\n",
              "      try {\n",
              "        const charts = await google.colab.kernel.invokeFunction(\n",
              "            'suggestCharts', [key], {});\n",
              "      } catch (error) {\n",
              "        console.error('Error during call to suggestCharts:', error);\n",
              "      }\n",
              "      quickchartButtonEl.classList.remove('colab-df-spinner');\n",
              "      quickchartButtonEl.classList.add('colab-df-quickchart-complete');\n",
              "    }\n",
              "    (() => {\n",
              "      let quickchartButtonEl =\n",
              "        document.querySelector('#df-46aee9a5-28ef-4a83-9810-01e0a06d016d button');\n",
              "      quickchartButtonEl.style.display =\n",
              "        google.colab.kernel.accessAllowed ? 'block' : 'none';\n",
              "    })();\n",
              "  </script>\n",
              "</div>\n",
              "\n",
              "    </div>\n",
              "  </div>\n"
            ],
            "application/vnd.google.colaboratory.intrinsic+json": {
              "type": "dataframe",
              "variable_name": "df"
            }
          },
          "metadata": {},
          "execution_count": 27
        }
      ]
    },
    {
      "cell_type": "code",
      "source": [
        "df.dtypes"
      ],
      "metadata": {
        "colab": {
          "base_uri": "https://localhost:8080/",
          "height": 648
        },
        "id": "XIoKpa2udc09",
        "outputId": "221bd4f7-8afd-4b12-ef40-fa34270e91fb"
      },
      "id": "XIoKpa2udc09",
      "execution_count": 28,
      "outputs": [
        {
          "output_type": "execute_result",
          "data": {
            "text/plain": [
              "Unnamed: 0                 int64\n",
              "Date                      object\n",
              "Time                      object\n",
              "Global_active_power      float64\n",
              "Global_reactive_power    float64\n",
              "Voltage                  float64\n",
              "Global_intensity         float64\n",
              "Sub_metering_1           float64\n",
              "Sub_metering_2           float64\n",
              "Sub_metering_3           float64\n",
              "Datetime                  object\n",
              "gap_monthly              float64\n",
              "grp_monthly              float64\n",
              "v_monthly                float64\n",
              "gi_monthly               float64\n",
              "unix                       int64\n",
              "Voltage_MA               float64\n",
              "Hour                       int64\n",
              "dtype: object"
            ],
            "text/html": [
              "<div>\n",
              "<style scoped>\n",
              "    .dataframe tbody tr th:only-of-type {\n",
              "        vertical-align: middle;\n",
              "    }\n",
              "\n",
              "    .dataframe tbody tr th {\n",
              "        vertical-align: top;\n",
              "    }\n",
              "\n",
              "    .dataframe thead th {\n",
              "        text-align: right;\n",
              "    }\n",
              "</style>\n",
              "<table border=\"1\" class=\"dataframe\">\n",
              "  <thead>\n",
              "    <tr style=\"text-align: right;\">\n",
              "      <th></th>\n",
              "      <th>0</th>\n",
              "    </tr>\n",
              "  </thead>\n",
              "  <tbody>\n",
              "    <tr>\n",
              "      <th>Unnamed: 0</th>\n",
              "      <td>int64</td>\n",
              "    </tr>\n",
              "    <tr>\n",
              "      <th>Date</th>\n",
              "      <td>object</td>\n",
              "    </tr>\n",
              "    <tr>\n",
              "      <th>Time</th>\n",
              "      <td>object</td>\n",
              "    </tr>\n",
              "    <tr>\n",
              "      <th>Global_active_power</th>\n",
              "      <td>float64</td>\n",
              "    </tr>\n",
              "    <tr>\n",
              "      <th>Global_reactive_power</th>\n",
              "      <td>float64</td>\n",
              "    </tr>\n",
              "    <tr>\n",
              "      <th>Voltage</th>\n",
              "      <td>float64</td>\n",
              "    </tr>\n",
              "    <tr>\n",
              "      <th>Global_intensity</th>\n",
              "      <td>float64</td>\n",
              "    </tr>\n",
              "    <tr>\n",
              "      <th>Sub_metering_1</th>\n",
              "      <td>float64</td>\n",
              "    </tr>\n",
              "    <tr>\n",
              "      <th>Sub_metering_2</th>\n",
              "      <td>float64</td>\n",
              "    </tr>\n",
              "    <tr>\n",
              "      <th>Sub_metering_3</th>\n",
              "      <td>float64</td>\n",
              "    </tr>\n",
              "    <tr>\n",
              "      <th>Datetime</th>\n",
              "      <td>object</td>\n",
              "    </tr>\n",
              "    <tr>\n",
              "      <th>gap_monthly</th>\n",
              "      <td>float64</td>\n",
              "    </tr>\n",
              "    <tr>\n",
              "      <th>grp_monthly</th>\n",
              "      <td>float64</td>\n",
              "    </tr>\n",
              "    <tr>\n",
              "      <th>v_monthly</th>\n",
              "      <td>float64</td>\n",
              "    </tr>\n",
              "    <tr>\n",
              "      <th>gi_monthly</th>\n",
              "      <td>float64</td>\n",
              "    </tr>\n",
              "    <tr>\n",
              "      <th>unix</th>\n",
              "      <td>int64</td>\n",
              "    </tr>\n",
              "    <tr>\n",
              "      <th>Voltage_MA</th>\n",
              "      <td>float64</td>\n",
              "    </tr>\n",
              "    <tr>\n",
              "      <th>Hour</th>\n",
              "      <td>int64</td>\n",
              "    </tr>\n",
              "  </tbody>\n",
              "</table>\n",
              "</div><br><label><b>dtype:</b> object</label>"
            ]
          },
          "metadata": {},
          "execution_count": 28
        }
      ]
    },
    {
      "cell_type": "code",
      "source": [
        "df.Date"
      ],
      "metadata": {
        "colab": {
          "base_uri": "https://localhost:8080/",
          "height": 458
        },
        "id": "GISBrHWGdx66",
        "outputId": "fc4a5779-1b63-44b8-a951-a6daf18065a4"
      },
      "id": "GISBrHWGdx66",
      "execution_count": 29,
      "outputs": [
        {
          "output_type": "execute_result",
          "data": {
            "text/plain": [
              "0          2006-12-16\n",
              "1          2006-12-16\n",
              "2          2006-12-16\n",
              "3          2006-12-16\n",
              "4          2006-12-16\n",
              "              ...    \n",
              "2049246    2010-11-26\n",
              "2049247    2010-11-26\n",
              "2049248    2010-11-26\n",
              "2049249    2010-11-26\n",
              "2049250    2010-11-26\n",
              "Name: Date, Length: 2049251, dtype: object"
            ],
            "text/html": [
              "<div>\n",
              "<style scoped>\n",
              "    .dataframe tbody tr th:only-of-type {\n",
              "        vertical-align: middle;\n",
              "    }\n",
              "\n",
              "    .dataframe tbody tr th {\n",
              "        vertical-align: top;\n",
              "    }\n",
              "\n",
              "    .dataframe thead th {\n",
              "        text-align: right;\n",
              "    }\n",
              "</style>\n",
              "<table border=\"1\" class=\"dataframe\">\n",
              "  <thead>\n",
              "    <tr style=\"text-align: right;\">\n",
              "      <th></th>\n",
              "      <th>Date</th>\n",
              "    </tr>\n",
              "  </thead>\n",
              "  <tbody>\n",
              "    <tr>\n",
              "      <th>0</th>\n",
              "      <td>2006-12-16</td>\n",
              "    </tr>\n",
              "    <tr>\n",
              "      <th>1</th>\n",
              "      <td>2006-12-16</td>\n",
              "    </tr>\n",
              "    <tr>\n",
              "      <th>2</th>\n",
              "      <td>2006-12-16</td>\n",
              "    </tr>\n",
              "    <tr>\n",
              "      <th>3</th>\n",
              "      <td>2006-12-16</td>\n",
              "    </tr>\n",
              "    <tr>\n",
              "      <th>4</th>\n",
              "      <td>2006-12-16</td>\n",
              "    </tr>\n",
              "    <tr>\n",
              "      <th>...</th>\n",
              "      <td>...</td>\n",
              "    </tr>\n",
              "    <tr>\n",
              "      <th>2049246</th>\n",
              "      <td>2010-11-26</td>\n",
              "    </tr>\n",
              "    <tr>\n",
              "      <th>2049247</th>\n",
              "      <td>2010-11-26</td>\n",
              "    </tr>\n",
              "    <tr>\n",
              "      <th>2049248</th>\n",
              "      <td>2010-11-26</td>\n",
              "    </tr>\n",
              "    <tr>\n",
              "      <th>2049249</th>\n",
              "      <td>2010-11-26</td>\n",
              "    </tr>\n",
              "    <tr>\n",
              "      <th>2049250</th>\n",
              "      <td>2010-11-26</td>\n",
              "    </tr>\n",
              "  </tbody>\n",
              "</table>\n",
              "<p>2049251 rows × 1 columns</p>\n",
              "</div><br><label><b>dtype:</b> object</label>"
            ]
          },
          "metadata": {},
          "execution_count": 29
        }
      ]
    },
    {
      "cell_type": "code",
      "source": [
        "df.Time"
      ],
      "metadata": {
        "colab": {
          "base_uri": "https://localhost:8080/",
          "height": 458
        },
        "id": "lWqKFFEYdpK9",
        "outputId": "cda876d7-a855-4330-f0da-0574c3303e24"
      },
      "id": "lWqKFFEYdpK9",
      "execution_count": 30,
      "outputs": [
        {
          "output_type": "execute_result",
          "data": {
            "text/plain": [
              "0          17:53:00\n",
              "1          17:54:00\n",
              "2          17:55:00\n",
              "3          17:56:00\n",
              "4          17:57:00\n",
              "             ...   \n",
              "2049246    20:58:00\n",
              "2049247    20:59:00\n",
              "2049248    21:00:00\n",
              "2049249    21:01:00\n",
              "2049250    21:02:00\n",
              "Name: Time, Length: 2049251, dtype: object"
            ],
            "text/html": [
              "<div>\n",
              "<style scoped>\n",
              "    .dataframe tbody tr th:only-of-type {\n",
              "        vertical-align: middle;\n",
              "    }\n",
              "\n",
              "    .dataframe tbody tr th {\n",
              "        vertical-align: top;\n",
              "    }\n",
              "\n",
              "    .dataframe thead th {\n",
              "        text-align: right;\n",
              "    }\n",
              "</style>\n",
              "<table border=\"1\" class=\"dataframe\">\n",
              "  <thead>\n",
              "    <tr style=\"text-align: right;\">\n",
              "      <th></th>\n",
              "      <th>Time</th>\n",
              "    </tr>\n",
              "  </thead>\n",
              "  <tbody>\n",
              "    <tr>\n",
              "      <th>0</th>\n",
              "      <td>17:53:00</td>\n",
              "    </tr>\n",
              "    <tr>\n",
              "      <th>1</th>\n",
              "      <td>17:54:00</td>\n",
              "    </tr>\n",
              "    <tr>\n",
              "      <th>2</th>\n",
              "      <td>17:55:00</td>\n",
              "    </tr>\n",
              "    <tr>\n",
              "      <th>3</th>\n",
              "      <td>17:56:00</td>\n",
              "    </tr>\n",
              "    <tr>\n",
              "      <th>4</th>\n",
              "      <td>17:57:00</td>\n",
              "    </tr>\n",
              "    <tr>\n",
              "      <th>...</th>\n",
              "      <td>...</td>\n",
              "    </tr>\n",
              "    <tr>\n",
              "      <th>2049246</th>\n",
              "      <td>20:58:00</td>\n",
              "    </tr>\n",
              "    <tr>\n",
              "      <th>2049247</th>\n",
              "      <td>20:59:00</td>\n",
              "    </tr>\n",
              "    <tr>\n",
              "      <th>2049248</th>\n",
              "      <td>21:00:00</td>\n",
              "    </tr>\n",
              "    <tr>\n",
              "      <th>2049249</th>\n",
              "      <td>21:01:00</td>\n",
              "    </tr>\n",
              "    <tr>\n",
              "      <th>2049250</th>\n",
              "      <td>21:02:00</td>\n",
              "    </tr>\n",
              "  </tbody>\n",
              "</table>\n",
              "<p>2049251 rows × 1 columns</p>\n",
              "</div><br><label><b>dtype:</b> object</label>"
            ]
          },
          "metadata": {},
          "execution_count": 30
        }
      ]
    },
    {
      "cell_type": "code",
      "source": [
        "#make a copy of the raw data so that we can go back and refer to it later\n",
        "df_raw = df.copy()"
      ],
      "metadata": {
        "id": "vTmIeCIWg2dC"
      },
      "id": "vTmIeCIWg2dC",
      "execution_count": 31,
      "outputs": []
    },
    {
      "cell_type": "code",
      "source": [
        "df_raw.head()"
      ],
      "metadata": {
        "colab": {
          "base_uri": "https://localhost:8080/",
          "height": 145
        },
        "id": "EjCKaFlFj5Ca",
        "outputId": "0b6ff247-6b2e-4ece-f31e-ab5a4423caa8"
      },
      "id": "EjCKaFlFj5Ca",
      "execution_count": 3,
      "outputs": [
        {
          "output_type": "error",
          "ename": "NameError",
          "evalue": "name 'df_raw' is not defined",
          "traceback": [
            "\u001b[0;31m---------------------------------------------------------------------------\u001b[0m",
            "\u001b[0;31mNameError\u001b[0m                                 Traceback (most recent call last)",
            "\u001b[0;32m<ipython-input-3-2101f3d66052>\u001b[0m in \u001b[0;36m<cell line: 0>\u001b[0;34m()\u001b[0m\n\u001b[0;32m----> 1\u001b[0;31m \u001b[0mdf_raw\u001b[0m\u001b[0;34m.\u001b[0m\u001b[0mhead\u001b[0m\u001b[0;34m(\u001b[0m\u001b[0;34m)\u001b[0m\u001b[0;34m\u001b[0m\u001b[0;34m\u001b[0m\u001b[0m\n\u001b[0m",
            "\u001b[0;31mNameError\u001b[0m: name 'df_raw' is not defined"
          ]
        }
      ]
    },
    {
      "cell_type": "code",
      "source": [
        "#create your Datetime column\n",
        "df['Date'] = pd.to_datetime(df['Date'])\n",
        "df['Time'] = pd.to_datetime(df['Time'])"
      ],
      "metadata": {
        "colab": {
          "base_uri": "https://localhost:8080/",
          "height": 0
        },
        "id": "gU_dwxrHeny5",
        "outputId": "2cd0d761-d953-4b78-ba76-4bba072f0960"
      },
      "id": "gU_dwxrHeny5",
      "execution_count": 33,
      "outputs": [
        {
          "output_type": "stream",
          "name": "stderr",
          "text": [
            "<ipython-input-33-d9f29fbc2aae>:3: UserWarning: Could not infer format, so each element will be parsed individually, falling back to `dateutil`. To ensure parsing is consistent and as-expected, please specify a format.\n",
            "  df['Time'] = pd.to_datetime(df['Time'])\n"
          ]
        }
      ]
    },
    {
      "cell_type": "code",
      "source": [
        "#Length of dataframe\n",
        "len(df)"
      ],
      "metadata": {
        "id": "DKbIDolQerbr",
        "colab": {
          "base_uri": "https://localhost:8080/",
          "height": 163
        },
        "outputId": "0b8837e1-7673-4420-8b64-f72f5de7f721"
      },
      "id": "DKbIDolQerbr",
      "execution_count": 3,
      "outputs": [
        {
          "output_type": "error",
          "ename": "NameError",
          "evalue": "name 'df' is not defined",
          "traceback": [
            "\u001b[0;31m---------------------------------------------------------------------------\u001b[0m",
            "\u001b[0;31mNameError\u001b[0m                                 Traceback (most recent call last)",
            "\u001b[0;32m<ipython-input-3-a7b60aff736a>\u001b[0m in \u001b[0;36m<cell line: 0>\u001b[0;34m()\u001b[0m\n\u001b[1;32m      1\u001b[0m \u001b[0;31m#Length of dataframe\u001b[0m\u001b[0;34m\u001b[0m\u001b[0;34m\u001b[0m\u001b[0m\n\u001b[0;32m----> 2\u001b[0;31m \u001b[0mlen\u001b[0m\u001b[0;34m(\u001b[0m\u001b[0mdf\u001b[0m\u001b[0;34m)\u001b[0m\u001b[0;34m\u001b[0m\u001b[0;34m\u001b[0m\u001b[0m\n\u001b[0m",
            "\u001b[0;31mNameError\u001b[0m: name 'df' is not defined"
          ]
        }
      ]
    },
    {
      "cell_type": "code",
      "source": [
        "#create your training and validation sets here\n",
        "# define path to save model\n",
        "model_path = 'binary_model.h5'\n",
        "#assign size for data subset - for now using only 10K records later swap with len(df) ie., 2049251\n",
        "subset_size = 10000\n"
      ],
      "metadata": {
        "id": "-bEGVCusd2rM"
      },
      "id": "-bEGVCusd2rM",
      "execution_count": 35,
      "outputs": []
    },
    {
      "cell_type": "code",
      "execution_count": 36,
      "id": "b4a7845e",
      "metadata": {
        "id": "b4a7845e"
      },
      "outputs": [],
      "source": [
        "#create your training and validation sets here\n",
        "from sklearn.model_selection import train_test_split\n",
        "\n",
        "# Suppose X is your feature matrix and y is your target variable\n",
        "# First, split into training and temp (validation + test) sets\n",
        "#X_train, X_temp, y_train, y_temp = train_test_split(X, y, test_size=0.4, random_state=42)\n",
        "\n",
        "# Then, split the temp set equally into validation and test sets\n",
        "#X_val, X_test, y_val, y_test = train_test_split(X_temp, y_temp, test_size=0.5, random_state=42)\n",
        "\n",
        "# This results in:\n",
        "# - Training set: 60% of the data\n",
        "# - Validation set: 20% of the data\n",
        "# - Test set: 20% of the data\n",
        "\n",
        "\n",
        "#assign size for data subset - for now using only 10K records later swap with len(df) ie., 2049251\n",
        "subset_size = 10000\n",
        "\n",
        "#take random data subset\n",
        "df_subset = df.sample(n=subset_size, random_state=42)\n",
        "\n",
        "# Reset index\n",
        "df_subset.reset_index(drop=True, inplace=True)\n",
        "\n",
        "#time series split instead of random split\n",
        "#split data subset 80/20 for train/validation\n",
        "# Sort data by datetime\n",
        "df_subset.sort_values('Datetime', inplace=True)\n",
        "\n",
        "# Reset index after sorting\n",
        "df_subset.reset_index(drop=True, inplace=True)\n",
        "\n",
        "# Calculate split index\n",
        "split_index = int(0.8 * len(df_subset))\n",
        "\n",
        "# Split data\n",
        "train_df = df_subset[:split_index]\n",
        "val_df = df_subset[split_index:]\n",
        "\n",
        "#train_df = ??\n",
        "#val_df = ??"
      ]
    },
    {
      "cell_type": "code",
      "execution_count": 37,
      "id": "4d0a7b27",
      "metadata": {
        "id": "4d0a7b27"
      },
      "outputs": [],
      "source": [
        "#reset the indices for cleanliness\n",
        "train_df = train_df.reset_index()\n",
        "val_df = val_df.reset_index()"
      ]
    },
    {
      "cell_type": "code",
      "source": [
        "#Length of train_df\n",
        "len(train_df)\n"
      ],
      "metadata": {
        "colab": {
          "base_uri": "https://localhost:8080/",
          "height": 0
        },
        "id": "twWoCugI1jym",
        "outputId": "f87959bc-8317-48de-ba3f-9e713afdae2f"
      },
      "id": "twWoCugI1jym",
      "execution_count": 38,
      "outputs": [
        {
          "output_type": "execute_result",
          "data": {
            "text/plain": [
              "8000"
            ]
          },
          "metadata": {},
          "execution_count": 38
        }
      ]
    },
    {
      "cell_type": "code",
      "source": [
        "#Length of val_df\n",
        "len(val_df)\n"
      ],
      "metadata": {
        "colab": {
          "base_uri": "https://localhost:8080/",
          "height": 163
        },
        "id": "7p_Hzr3H1srk",
        "outputId": "59d6d87e-5204-4cb8-b00d-937fb9867a08"
      },
      "id": "7p_Hzr3H1srk",
      "execution_count": 2,
      "outputs": [
        {
          "output_type": "error",
          "ename": "NameError",
          "evalue": "name 'val_df' is not defined",
          "traceback": [
            "\u001b[0;31m---------------------------------------------------------------------------\u001b[0m",
            "\u001b[0;31mNameError\u001b[0m                                 Traceback (most recent call last)",
            "\u001b[0;32m<ipython-input-2-c46ec2a3eadd>\u001b[0m in \u001b[0;36m<cell line: 0>\u001b[0;34m()\u001b[0m\n\u001b[1;32m      1\u001b[0m \u001b[0;31m#Length of val_df\u001b[0m\u001b[0;34m\u001b[0m\u001b[0;34m\u001b[0m\u001b[0m\n\u001b[0;32m----> 2\u001b[0;31m \u001b[0mlen\u001b[0m\u001b[0;34m(\u001b[0m\u001b[0mval_df\u001b[0m\u001b[0;34m)\u001b[0m\u001b[0;34m\u001b[0m\u001b[0;34m\u001b[0m\u001b[0m\n\u001b[0m",
            "\u001b[0;31mNameError\u001b[0m: name 'val_df' is not defined"
          ]
        }
      ]
    },
    {
      "cell_type": "code",
      "source": [
        "train_df.head()"
      ],
      "metadata": {
        "colab": {
          "base_uri": "https://localhost:8080/",
          "height": 145
        },
        "id": "Sa40Lo-g1e2D",
        "outputId": "17af8d81-2d48-4195-81d1-63731df9ce88"
      },
      "id": "Sa40Lo-g1e2D",
      "execution_count": 2,
      "outputs": [
        {
          "output_type": "error",
          "ename": "NameError",
          "evalue": "name 'train_df' is not defined",
          "traceback": [
            "\u001b[0;31m---------------------------------------------------------------------------\u001b[0m",
            "\u001b[0;31mNameError\u001b[0m                                 Traceback (most recent call last)",
            "\u001b[0;32m<ipython-input-2-193753be380d>\u001b[0m in \u001b[0;36m<cell line: 0>\u001b[0;34m()\u001b[0m\n\u001b[0;32m----> 1\u001b[0;31m \u001b[0mtrain_df\u001b[0m\u001b[0;34m.\u001b[0m\u001b[0mhead\u001b[0m\u001b[0;34m(\u001b[0m\u001b[0;34m)\u001b[0m\u001b[0;34m\u001b[0m\u001b[0;34m\u001b[0m\u001b[0m\n\u001b[0m",
            "\u001b[0;31mNameError\u001b[0m: name 'train_df' is not defined"
          ]
        }
      ]
    },
    {
      "cell_type": "markdown",
      "id": "b4a34258",
      "metadata": {
        "id": "b4a34258"
      },
      "source": [
        "Next we need to create our input and output sequences. In the lab session this week, we used an LSTM model to make a binary prediction, but LSTM models are very flexible in what they can output: we can also use them to predict a single real-numbered output (we can even use them to predict a sequence of outputs). Here we will train a model to predict a single real-numbered output such that we can compare our model directly to the linear regression model from last week.\n",
        "\n",
        "**TODO: Create a nested list structure for the training data, with a sequence of GAP measurements as the input and the GAP measurement at your predictive horizon as your expected output**"
      ]
    },
    {
      "cell_type": "code",
      "execution_count": 8,
      "id": "807b5117",
      "metadata": {
        "id": "807b5117"
      },
      "outputs": [],
      "source": [
        "seq_arrays = []\n",
        "seq_labs = []"
      ]
    },
    {
      "cell_type": "code",
      "execution_count": 1,
      "id": "17b6475e",
      "metadata": {
        "id": "17b6475e",
        "colab": {
          "base_uri": "https://localhost:8080/",
          "height": 217
        },
        "outputId": "39258ed1-55a5-4be5-ec3d-4e36207cb32b"
      },
      "outputs": [
        {
          "output_type": "error",
          "ename": "NameError",
          "evalue": "name 'df' is not defined",
          "traceback": [
            "\u001b[0;31m---------------------------------------------------------------------------\u001b[0m",
            "\u001b[0;31mNameError\u001b[0m                                 Traceback (most recent call last)",
            "\u001b[0;32m<ipython-input-1-05cc33003ec7>\u001b[0m in \u001b[0;36m<cell line: 0>\u001b[0;34m()\u001b[0m\n\u001b[1;32m      9\u001b[0m \u001b[0;34m\u001b[0m\u001b[0m\n\u001b[1;32m     10\u001b[0m \u001b[0;31m# Define subset_size here\u001b[0m\u001b[0;34m\u001b[0m\u001b[0;34m\u001b[0m\u001b[0m\n\u001b[0;32m---> 11\u001b[0;31m \u001b[0msubset_size\u001b[0m \u001b[0;34m=\u001b[0m  \u001b[0mlen\u001b[0m\u001b[0;34m(\u001b[0m\u001b[0mdf\u001b[0m\u001b[0;34m)\u001b[0m\u001b[0;31m#10000  # Or use len(df) for the entire dataset\u001b[0m\u001b[0;34m\u001b[0m\u001b[0;34m\u001b[0m\u001b[0m\n\u001b[0m\u001b[1;32m     12\u001b[0m \u001b[0;34m\u001b[0m\u001b[0m\n\u001b[1;32m     13\u001b[0m \u001b[0;31m# Access the global df DataFrame\u001b[0m\u001b[0;34m\u001b[0m\u001b[0;34m\u001b[0m\u001b[0m\n",
            "\u001b[0;31mNameError\u001b[0m: name 'df' is not defined"
          ]
        }
      ],
      "source": [
        "# we'll start out with a 30 minute input sequence and a 5 minute predictive horizon\n",
        "# we don't need to work in seconds this time, since we'll just use the indices instead of a unix timestamp\n",
        "seq_length = 30\n",
        "ph = 5\n",
        "\n",
        "feat_cols = ['Global_active_power']\n",
        "\n",
        "#create list of sequence length GAP readings\n",
        "\n",
        "# Define subset_size here\n",
        "subset_size =  len(df)#10000  # Or use len(df) for the entire dataset\n",
        "\n",
        "# Access the global df DataFrame\n",
        "global df\n",
        "\n",
        "# Calculate the total number of sequences we can create\n",
        "#num_samples = len(df) - seq_length - ph + 1\n",
        "num_samples =subset_size - seq_length - ph + 1 # replace subset_size from 10000 to len(df)\n",
        "\n",
        "\n",
        "for i in range(num_samples):\n",
        "    # Input sequence: from time step i to i + seq_length\n",
        "    seq_input = df.loc[i: i + seq_length - 1, feat_cols].values\n",
        "    seq_arrays.append(seq_input)\n",
        "\n",
        "    # Output label: value at time step i + seq_length + ph - 1\n",
        "    label = df.loc[i + seq_length + ph - 1, 'Global_active_power']\n",
        "    seq_labs.append(label)\n",
        "\n",
        "\n",
        "#convert to numpy arrays and floats to appease keras/tensorflow\n",
        "seq_arrays = np.array(seq_arrays, dtype = object).astype(np.float32)\n",
        "seq_labs = np.array(seq_labs, dtype = object).astype(np.float32)"
      ]
    },
    {
      "cell_type": "code",
      "source": [
        "import pandas as pd\n",
        "import numpy as np\n",
        "import matplotlib.pyplot as plt\n",
        "import os\n",
        "import random\n",
        "from google.colab import files\n",
        "import tensorflow as tf\n",
        "from tensorflow import keras\n",
        "from tensorflow.keras.models import Sequential\n",
        "from keras.models import Sequential\n",
        "from keras.layers import Dense, Dropout, LSTM, Activation\n",
        "from keras.utils import pad_sequences\n",
        "\n",
        "# Setting seed for reproducibility\n",
        "np.random.seed(1234)\n",
        "PYTHONHASHSEED = 0\n",
        "\n",
        "from sklearn import preprocessing\n",
        "from sklearn.metrics import confusion_matrix, recall_score, precision_score\n",
        "from sklearn.model_selection import train_test_split\n",
        "from keras.models import Sequential, load_model\n",
        "from keras.layers import Dense, Dropout, LSTM, Activation\n",
        "from keras.utils import pad_sequences\n",
        "# use this cell to import additional libraries or define helper functions\n",
        "\n",
        "import zipfile\n",
        "import io\n",
        "\n",
        "# Load your data into a pandas dataframe here\n",
        "uploaded = files.upload()\n",
        "\n",
        "for fn in uploaded.keys():\n",
        "    if fn.endswith('.zip'):\n",
        "        zip_ref = zipfile.ZipFile(io.BytesIO(uploaded[fn]))\n",
        "        zip_ref.extractall()\n",
        "        zip_ref.close()\n",
        "\n",
        "# Assuming the CSV file is named 'your_file.csv'\n",
        "# Replace with the actual name of your CSV file\n",
        "\n",
        "csv_files = [f for f in os.listdir('.') if f.endswith('.csv')]\n",
        "\n",
        "if csv_files:\n",
        "    df = pd.read_csv(csv_files[0])  # Read the first CSV file found\n",
        "    # Proceed with your data processing and model training using 'df'\n",
        "    print(f\"Loaded data from {csv_files[0]}\")\n",
        "else:\n",
        "    print(\"No CSV files found in the uploaded zip file\")\n",
        "    # Handle the case where no CSV file is found\n",
        "\n",
        "# Rest of your code to process the dataframe 'df'\n",
        "\n",
        "df['Datetime'] = pd.to_datetime(df['Date'] + ' ' + df['Time'])  # Combining Date and Time columns into Datetime\n",
        "# Length of dataframe\n",
        "len(df)\n",
        "# Select a subset of the data\n",
        "subset_size = 10000#len(df)# 10000  # Or use len(df) for the entire dataset\n",
        "df_subset = df.sample(n=subset_size, random_state=42)\n",
        "df_subset.reset_index(drop=True, inplace=True)\n",
        "\n",
        "# Split the subset into training and validation sets\n",
        "df_subset.sort_values('Datetime', inplace=True)\n",
        "df_subset.reset_index(drop=True, inplace=True)\n",
        "split_index = int(0.8 * len(df_subset))\n",
        "train_df = df_subset[:split_index]\n",
        "val_df = df_subset[split_index:]\n",
        "train_df.reset_index(drop=True, inplace=True)\n",
        "val_df.reset_index(drop=True, inplace=True)\n",
        "\n"
      ],
      "metadata": {
        "colab": {
          "base_uri": "https://localhost:8080/",
          "height": 92
        },
        "id": "ZZnU7X7KnwLZ",
        "outputId": "fcfa9069-0a3a-4b16-a350-e343c4c6cee2"
      },
      "id": "ZZnU7X7KnwLZ",
      "execution_count": 3,
      "outputs": [
        {
          "output_type": "display_data",
          "data": {
            "text/plain": [
              "<IPython.core.display.HTML object>"
            ],
            "text/html": [
              "\n",
              "     <input type=\"file\" id=\"files-74749a45-a293-4284-a72f-6c8e4515b85a\" name=\"files[]\" multiple disabled\n",
              "        style=\"border:none\" />\n",
              "     <output id=\"result-74749a45-a293-4284-a72f-6c8e4515b85a\">\n",
              "      Upload widget is only available when the cell has been executed in the\n",
              "      current browser session. Please rerun this cell to enable.\n",
              "      </output>\n",
              "      <script>// Copyright 2017 Google LLC\n",
              "//\n",
              "// Licensed under the Apache License, Version 2.0 (the \"License\");\n",
              "// you may not use this file except in compliance with the License.\n",
              "// You may obtain a copy of the License at\n",
              "//\n",
              "//      http://www.apache.org/licenses/LICENSE-2.0\n",
              "//\n",
              "// Unless required by applicable law or agreed to in writing, software\n",
              "// distributed under the License is distributed on an \"AS IS\" BASIS,\n",
              "// WITHOUT WARRANTIES OR CONDITIONS OF ANY KIND, either express or implied.\n",
              "// See the License for the specific language governing permissions and\n",
              "// limitations under the License.\n",
              "\n",
              "/**\n",
              " * @fileoverview Helpers for google.colab Python module.\n",
              " */\n",
              "(function(scope) {\n",
              "function span(text, styleAttributes = {}) {\n",
              "  const element = document.createElement('span');\n",
              "  element.textContent = text;\n",
              "  for (const key of Object.keys(styleAttributes)) {\n",
              "    element.style[key] = styleAttributes[key];\n",
              "  }\n",
              "  return element;\n",
              "}\n",
              "\n",
              "// Max number of bytes which will be uploaded at a time.\n",
              "const MAX_PAYLOAD_SIZE = 100 * 1024;\n",
              "\n",
              "function _uploadFiles(inputId, outputId) {\n",
              "  const steps = uploadFilesStep(inputId, outputId);\n",
              "  const outputElement = document.getElementById(outputId);\n",
              "  // Cache steps on the outputElement to make it available for the next call\n",
              "  // to uploadFilesContinue from Python.\n",
              "  outputElement.steps = steps;\n",
              "\n",
              "  return _uploadFilesContinue(outputId);\n",
              "}\n",
              "\n",
              "// This is roughly an async generator (not supported in the browser yet),\n",
              "// where there are multiple asynchronous steps and the Python side is going\n",
              "// to poll for completion of each step.\n",
              "// This uses a Promise to block the python side on completion of each step,\n",
              "// then passes the result of the previous step as the input to the next step.\n",
              "function _uploadFilesContinue(outputId) {\n",
              "  const outputElement = document.getElementById(outputId);\n",
              "  const steps = outputElement.steps;\n",
              "\n",
              "  const next = steps.next(outputElement.lastPromiseValue);\n",
              "  return Promise.resolve(next.value.promise).then((value) => {\n",
              "    // Cache the last promise value to make it available to the next\n",
              "    // step of the generator.\n",
              "    outputElement.lastPromiseValue = value;\n",
              "    return next.value.response;\n",
              "  });\n",
              "}\n",
              "\n",
              "/**\n",
              " * Generator function which is called between each async step of the upload\n",
              " * process.\n",
              " * @param {string} inputId Element ID of the input file picker element.\n",
              " * @param {string} outputId Element ID of the output display.\n",
              " * @return {!Iterable<!Object>} Iterable of next steps.\n",
              " */\n",
              "function* uploadFilesStep(inputId, outputId) {\n",
              "  const inputElement = document.getElementById(inputId);\n",
              "  inputElement.disabled = false;\n",
              "\n",
              "  const outputElement = document.getElementById(outputId);\n",
              "  outputElement.innerHTML = '';\n",
              "\n",
              "  const pickedPromise = new Promise((resolve) => {\n",
              "    inputElement.addEventListener('change', (e) => {\n",
              "      resolve(e.target.files);\n",
              "    });\n",
              "  });\n",
              "\n",
              "  const cancel = document.createElement('button');\n",
              "  inputElement.parentElement.appendChild(cancel);\n",
              "  cancel.textContent = 'Cancel upload';\n",
              "  const cancelPromise = new Promise((resolve) => {\n",
              "    cancel.onclick = () => {\n",
              "      resolve(null);\n",
              "    };\n",
              "  });\n",
              "\n",
              "  // Wait for the user to pick the files.\n",
              "  const files = yield {\n",
              "    promise: Promise.race([pickedPromise, cancelPromise]),\n",
              "    response: {\n",
              "      action: 'starting',\n",
              "    }\n",
              "  };\n",
              "\n",
              "  cancel.remove();\n",
              "\n",
              "  // Disable the input element since further picks are not allowed.\n",
              "  inputElement.disabled = true;\n",
              "\n",
              "  if (!files) {\n",
              "    return {\n",
              "      response: {\n",
              "        action: 'complete',\n",
              "      }\n",
              "    };\n",
              "  }\n",
              "\n",
              "  for (const file of files) {\n",
              "    const li = document.createElement('li');\n",
              "    li.append(span(file.name, {fontWeight: 'bold'}));\n",
              "    li.append(span(\n",
              "        `(${file.type || 'n/a'}) - ${file.size} bytes, ` +\n",
              "        `last modified: ${\n",
              "            file.lastModifiedDate ? file.lastModifiedDate.toLocaleDateString() :\n",
              "                                    'n/a'} - `));\n",
              "    const percent = span('0% done');\n",
              "    li.appendChild(percent);\n",
              "\n",
              "    outputElement.appendChild(li);\n",
              "\n",
              "    const fileDataPromise = new Promise((resolve) => {\n",
              "      const reader = new FileReader();\n",
              "      reader.onload = (e) => {\n",
              "        resolve(e.target.result);\n",
              "      };\n",
              "      reader.readAsArrayBuffer(file);\n",
              "    });\n",
              "    // Wait for the data to be ready.\n",
              "    let fileData = yield {\n",
              "      promise: fileDataPromise,\n",
              "      response: {\n",
              "        action: 'continue',\n",
              "      }\n",
              "    };\n",
              "\n",
              "    // Use a chunked sending to avoid message size limits. See b/62115660.\n",
              "    let position = 0;\n",
              "    do {\n",
              "      const length = Math.min(fileData.byteLength - position, MAX_PAYLOAD_SIZE);\n",
              "      const chunk = new Uint8Array(fileData, position, length);\n",
              "      position += length;\n",
              "\n",
              "      const base64 = btoa(String.fromCharCode.apply(null, chunk));\n",
              "      yield {\n",
              "        response: {\n",
              "          action: 'append',\n",
              "          file: file.name,\n",
              "          data: base64,\n",
              "        },\n",
              "      };\n",
              "\n",
              "      let percentDone = fileData.byteLength === 0 ?\n",
              "          100 :\n",
              "          Math.round((position / fileData.byteLength) * 100);\n",
              "      percent.textContent = `${percentDone}% done`;\n",
              "\n",
              "    } while (position < fileData.byteLength);\n",
              "  }\n",
              "\n",
              "  // All done.\n",
              "  yield {\n",
              "    response: {\n",
              "      action: 'complete',\n",
              "    }\n",
              "  };\n",
              "}\n",
              "\n",
              "scope.google = scope.google || {};\n",
              "scope.google.colab = scope.google.colab || {};\n",
              "scope.google.colab._files = {\n",
              "  _uploadFiles,\n",
              "  _uploadFilesContinue,\n",
              "};\n",
              "})(self);\n",
              "</script> "
            ]
          },
          "metadata": {}
        },
        {
          "output_type": "stream",
          "name": "stdout",
          "text": [
            "Saving electricdataoutputfrommodule3.zip to electricdataoutputfrommodule3.zip\n",
            "Loaded data from electricdataoutputfrommodule3.csv\n"
          ]
        }
      ]
    },
    {
      "cell_type": "code",
      "source": [
        "# Select a subset of the data\n",
        "subset_size = 10000  # Or use len(df) for the entire dataset\n",
        "df_subset = df.sample(n=subset_size, random_state=42)\n",
        "df_subset.reset_index(drop=True, inplace=True)\n",
        "\n",
        "# Split the subset into training and validation sets\n",
        "df_subset.sort_values('Datetime', inplace=True)\n",
        "df_subset.reset_index(drop=True, inplace=True)\n",
        "split_index = int(0.8 * len(df_subset))\n",
        "train_df = df_subset[:split_index]\n",
        "val_df = df_subset[split_index:]\n",
        "train_df.reset_index(drop=True, inplace=True)\n",
        "val_df.reset_index(drop=True, inplace=True)"
      ],
      "metadata": {
        "id": "2Vc9gDX6U1rI"
      },
      "id": "2Vc9gDX6U1rI",
      "execution_count": null,
      "outputs": []
    },
    {
      "source": [
        "# Create sequences and labels\n",
        "seq_arrays = []\n",
        "seq_labs = []\n",
        "seq_length = 30\n",
        "ph = 5\n",
        "feat_cols = ['Global_active_power']\n",
        "\n",
        "# The loop should iterate until len(train_df) - seq_length - ph + 1 to ensure correct sequence creation\n",
        "for i in range(len(train_df) - seq_length - ph + 1):\n",
        "    seq_input = train_df.loc[i: i + seq_length - 1, feat_cols].values\n",
        "    seq_arrays.append(seq_input)\n",
        "    label = train_df.loc[i + seq_length + ph - 1, 'Global_active_power']\n",
        "    seq_labs.append(label)\n",
        "\n",
        "seq_arrays = np.array(seq_arrays, dtype=object).astype(np.float32)\n",
        "seq_labs = np.array(seq_labs, dtype=object).astype(np.float32)\n",
        "\n",
        "# Now you can use assert statements\n",
        "# The expected shape for seq_arrays has been adjusted\n",
        "# to match the actual shape calculated during sequence creation.\n",
        "# seq_arrays has a shape of (num_samples, seq_length, len(feat_cols)),\n",
        "# where num_samples is len(train_df) - seq_length - ph + 1\n",
        "# To avoid the AssertionError, you should modify the assert statement to:\n",
        "assert seq_arrays.shape == (len(train_df) - seq_length - ph + 1, seq_length, len(feat_cols))\n",
        "assert seq_labs.shape == (len(train_df) - seq_length - ph + 1,)"
      ],
      "cell_type": "code",
      "metadata": {
        "id": "Kd1_nxloTtnr"
      },
      "id": "Kd1_nxloTtnr",
      "execution_count": 4,
      "outputs": []
    },
    {
      "cell_type": "code",
      "execution_count": 5,
      "id": "a16c46a0",
      "metadata": {
        "id": "a16c46a0",
        "colab": {
          "base_uri": "https://localhost:8080/",
          "height": 0
        },
        "outputId": "bd1c7812-cb8d-4a81-eebd-12a580324dc8"
      },
      "outputs": [
        {
          "output_type": "execute_result",
          "data": {
            "text/plain": [
              "(7966, 30, 1)"
            ]
          },
          "metadata": {},
          "execution_count": 5
        }
      ],
      "source": [
        "seq_arrays.shape"
      ]
    },
    {
      "cell_type": "markdown",
      "source": [
        "when initially tried with df length as 10K, 7,966 sequences, each of length 30, with 1 feature (Global_active_power) for  time-series forecasting task using LSTM.\n",
        "\n",
        "When tried with entire datalength, Colab crashes after RAM spiking to 300MB\n"
      ],
      "metadata": {
        "id": "5BuE0hVEp0je"
      },
      "id": "5BuE0hVEp0je"
    },
    {
      "cell_type": "markdown",
      "id": "cfb66dc2",
      "metadata": {
        "id": "cfb66dc2"
      },
      "source": [
        "**Q: What is the function of the assert statements in the above cell? Why do we use assertions in our code?**\n",
        "\n",
        "A:The assert statements are checking that the shapes of seq_arrays and seq_labs are exactly what you expect after processing your data.\n",
        "Assertions are like checkpoints in your code that confirm whether certain conditions hold true before the program proceeds. They're invaluable for several reasons:\n",
        "1. Early Error Detection\n",
        "2. Validate Assumptions\n",
        "3. Aid in Debugging\n",
        "4. Maintain Code Integrity\n",
        "\n",
        "Sequence Data: For our scenario on LSTMs used in time series forecasting, data must be structured as sequences of a specific length.\n",
        "Ensuring Correct Data Shapes: The assertions confirm that the preprocessing steps generated the sequences and labels correctly.\n",
        "Preventing Model Errors: Feeding incorrectly shaped data to a model would result in errors or poor performance.\n",
        "\n",
        "\n",
        "\n",
        "## Model Training\n",
        "\n",
        "We will begin with a model architecture very similar to the model we built in the lab session. We will have two LSTM layers, with 5 and 3 hidden units respectively, and we will apply dropout after each LSTM layer. However, we will use a LINEAR final layer and MSE for our loss function, since our output is continuous instead of binary.\n",
        "\n",
        "**TODO: Fill in all values marked with a ?? in the cell below**"
      ]
    },
    {
      "cell_type": "code",
      "execution_count": 6,
      "id": "4a57c132",
      "metadata": {
        "id": "4a57c132",
        "colab": {
          "base_uri": "https://localhost:8080/",
          "height": 402
        },
        "outputId": "84cb8499-bc69-40a8-d229-ba349f88b6c7"
      },
      "outputs": [
        {
          "output_type": "stream",
          "name": "stderr",
          "text": [
            "/usr/local/lib/python3.11/dist-packages/keras/src/layers/rnn/rnn.py:200: UserWarning: Do not pass an `input_shape`/`input_dim` argument to a layer. When using Sequential models, prefer using an `Input(shape)` object as the first layer in the model instead.\n",
            "  super().__init__(**kwargs)\n"
          ]
        },
        {
          "output_type": "display_data",
          "data": {
            "text/plain": [
              "\u001b[1mModel: \"sequential\"\u001b[0m\n"
            ],
            "text/html": [
              "<pre style=\"white-space:pre;overflow-x:auto;line-height:normal;font-family:Menlo,'DejaVu Sans Mono',consolas,'Courier New',monospace\"><span style=\"font-weight: bold\">Model: \"sequential\"</span>\n",
              "</pre>\n"
            ]
          },
          "metadata": {}
        },
        {
          "output_type": "display_data",
          "data": {
            "text/plain": [
              "┏━━━━━━━━━━━━━━━━━━━━━━━━━━━━━━━━━━━━━━┳━━━━━━━━━━━━━━━━━━━━━━━━━━━━━┳━━━━━━━━━━━━━━━━━┓\n",
              "┃\u001b[1m \u001b[0m\u001b[1mLayer (type)                        \u001b[0m\u001b[1m \u001b[0m┃\u001b[1m \u001b[0m\u001b[1mOutput Shape               \u001b[0m\u001b[1m \u001b[0m┃\u001b[1m \u001b[0m\u001b[1m        Param #\u001b[0m\u001b[1m \u001b[0m┃\n",
              "┡━━━━━━━━━━━━━━━━━━━━━━━━━━━━━━━━━━━━━━╇━━━━━━━━━━━━━━━━━━━━━━━━━━━━━╇━━━━━━━━━━━━━━━━━┩\n",
              "│ lstm (\u001b[38;5;33mLSTM\u001b[0m)                          │ (\u001b[38;5;45mNone\u001b[0m, \u001b[38;5;34m30\u001b[0m, \u001b[38;5;34m5\u001b[0m)               │             \u001b[38;5;34m140\u001b[0m │\n",
              "├──────────────────────────────────────┼─────────────────────────────┼─────────────────┤\n",
              "│ dropout (\u001b[38;5;33mDropout\u001b[0m)                    │ (\u001b[38;5;45mNone\u001b[0m, \u001b[38;5;34m30\u001b[0m, \u001b[38;5;34m5\u001b[0m)               │               \u001b[38;5;34m0\u001b[0m │\n",
              "├──────────────────────────────────────┼─────────────────────────────┼─────────────────┤\n",
              "│ lstm_1 (\u001b[38;5;33mLSTM\u001b[0m)                        │ (\u001b[38;5;45mNone\u001b[0m, \u001b[38;5;34m3\u001b[0m)                   │             \u001b[38;5;34m108\u001b[0m │\n",
              "├──────────────────────────────────────┼─────────────────────────────┼─────────────────┤\n",
              "│ dropout_1 (\u001b[38;5;33mDropout\u001b[0m)                  │ (\u001b[38;5;45mNone\u001b[0m, \u001b[38;5;34m3\u001b[0m)                   │               \u001b[38;5;34m0\u001b[0m │\n",
              "├──────────────────────────────────────┼─────────────────────────────┼─────────────────┤\n",
              "│ dense (\u001b[38;5;33mDense\u001b[0m)                        │ (\u001b[38;5;45mNone\u001b[0m, \u001b[38;5;34m1\u001b[0m)                   │               \u001b[38;5;34m4\u001b[0m │\n",
              "├──────────────────────────────────────┼─────────────────────────────┼─────────────────┤\n",
              "│ activation (\u001b[38;5;33mActivation\u001b[0m)              │ (\u001b[38;5;45mNone\u001b[0m, \u001b[38;5;34m1\u001b[0m)                   │               \u001b[38;5;34m0\u001b[0m │\n",
              "└──────────────────────────────────────┴─────────────────────────────┴─────────────────┘\n"
            ],
            "text/html": [
              "<pre style=\"white-space:pre;overflow-x:auto;line-height:normal;font-family:Menlo,'DejaVu Sans Mono',consolas,'Courier New',monospace\">┏━━━━━━━━━━━━━━━━━━━━━━━━━━━━━━━━━━━━━━┳━━━━━━━━━━━━━━━━━━━━━━━━━━━━━┳━━━━━━━━━━━━━━━━━┓\n",
              "┃<span style=\"font-weight: bold\"> Layer (type)                         </span>┃<span style=\"font-weight: bold\"> Output Shape                </span>┃<span style=\"font-weight: bold\">         Param # </span>┃\n",
              "┡━━━━━━━━━━━━━━━━━━━━━━━━━━━━━━━━━━━━━━╇━━━━━━━━━━━━━━━━━━━━━━━━━━━━━╇━━━━━━━━━━━━━━━━━┩\n",
              "│ lstm (<span style=\"color: #0087ff; text-decoration-color: #0087ff\">LSTM</span>)                          │ (<span style=\"color: #00d7ff; text-decoration-color: #00d7ff\">None</span>, <span style=\"color: #00af00; text-decoration-color: #00af00\">30</span>, <span style=\"color: #00af00; text-decoration-color: #00af00\">5</span>)               │             <span style=\"color: #00af00; text-decoration-color: #00af00\">140</span> │\n",
              "├──────────────────────────────────────┼─────────────────────────────┼─────────────────┤\n",
              "│ dropout (<span style=\"color: #0087ff; text-decoration-color: #0087ff\">Dropout</span>)                    │ (<span style=\"color: #00d7ff; text-decoration-color: #00d7ff\">None</span>, <span style=\"color: #00af00; text-decoration-color: #00af00\">30</span>, <span style=\"color: #00af00; text-decoration-color: #00af00\">5</span>)               │               <span style=\"color: #00af00; text-decoration-color: #00af00\">0</span> │\n",
              "├──────────────────────────────────────┼─────────────────────────────┼─────────────────┤\n",
              "│ lstm_1 (<span style=\"color: #0087ff; text-decoration-color: #0087ff\">LSTM</span>)                        │ (<span style=\"color: #00d7ff; text-decoration-color: #00d7ff\">None</span>, <span style=\"color: #00af00; text-decoration-color: #00af00\">3</span>)                   │             <span style=\"color: #00af00; text-decoration-color: #00af00\">108</span> │\n",
              "├──────────────────────────────────────┼─────────────────────────────┼─────────────────┤\n",
              "│ dropout_1 (<span style=\"color: #0087ff; text-decoration-color: #0087ff\">Dropout</span>)                  │ (<span style=\"color: #00d7ff; text-decoration-color: #00d7ff\">None</span>, <span style=\"color: #00af00; text-decoration-color: #00af00\">3</span>)                   │               <span style=\"color: #00af00; text-decoration-color: #00af00\">0</span> │\n",
              "├──────────────────────────────────────┼─────────────────────────────┼─────────────────┤\n",
              "│ dense (<span style=\"color: #0087ff; text-decoration-color: #0087ff\">Dense</span>)                        │ (<span style=\"color: #00d7ff; text-decoration-color: #00d7ff\">None</span>, <span style=\"color: #00af00; text-decoration-color: #00af00\">1</span>)                   │               <span style=\"color: #00af00; text-decoration-color: #00af00\">4</span> │\n",
              "├──────────────────────────────────────┼─────────────────────────────┼─────────────────┤\n",
              "│ activation (<span style=\"color: #0087ff; text-decoration-color: #0087ff\">Activation</span>)              │ (<span style=\"color: #00d7ff; text-decoration-color: #00d7ff\">None</span>, <span style=\"color: #00af00; text-decoration-color: #00af00\">1</span>)                   │               <span style=\"color: #00af00; text-decoration-color: #00af00\">0</span> │\n",
              "└──────────────────────────────────────┴─────────────────────────────┴─────────────────┘\n",
              "</pre>\n"
            ]
          },
          "metadata": {}
        },
        {
          "output_type": "display_data",
          "data": {
            "text/plain": [
              "\u001b[1m Total params: \u001b[0m\u001b[38;5;34m252\u001b[0m (1008.00 B)\n"
            ],
            "text/html": [
              "<pre style=\"white-space:pre;overflow-x:auto;line-height:normal;font-family:Menlo,'DejaVu Sans Mono',consolas,'Courier New',monospace\"><span style=\"font-weight: bold\"> Total params: </span><span style=\"color: #00af00; text-decoration-color: #00af00\">252</span> (1008.00 B)\n",
              "</pre>\n"
            ]
          },
          "metadata": {}
        },
        {
          "output_type": "display_data",
          "data": {
            "text/plain": [
              "\u001b[1m Trainable params: \u001b[0m\u001b[38;5;34m252\u001b[0m (1008.00 B)\n"
            ],
            "text/html": [
              "<pre style=\"white-space:pre;overflow-x:auto;line-height:normal;font-family:Menlo,'DejaVu Sans Mono',consolas,'Courier New',monospace\"><span style=\"font-weight: bold\"> Trainable params: </span><span style=\"color: #00af00; text-decoration-color: #00af00\">252</span> (1008.00 B)\n",
              "</pre>\n"
            ]
          },
          "metadata": {}
        },
        {
          "output_type": "display_data",
          "data": {
            "text/plain": [
              "\u001b[1m Non-trainable params: \u001b[0m\u001b[38;5;34m0\u001b[0m (0.00 B)\n"
            ],
            "text/html": [
              "<pre style=\"white-space:pre;overflow-x:auto;line-height:normal;font-family:Menlo,'DejaVu Sans Mono',consolas,'Courier New',monospace\"><span style=\"font-weight: bold\"> Non-trainable params: </span><span style=\"color: #00af00; text-decoration-color: #00af00\">0</span> (0.00 B)\n",
              "</pre>\n"
            ]
          },
          "metadata": {}
        },
        {
          "output_type": "stream",
          "name": "stdout",
          "text": [
            "None\n"
          ]
        }
      ],
      "source": [
        "# define path to save model\n",
        "model_path = 'LSTM_model1.keras'\n",
        "\n",
        "# two LSTM layers\n",
        "# Hidden units 5 & 3\n",
        "\n",
        "# build the network\n",
        "nb_features = 1 # number of features, 'GAP - Global Active power'\n",
        "nb_out = 1      # Number of output neurons\n",
        "\n",
        "model = Sequential()\n",
        "\n",
        "#add first LSTM layer\n",
        "model.add(LSTM(\n",
        "         input_shape=(seq_length, nb_features),\n",
        "         units=5,\n",
        "         return_sequences=True))\n",
        "model.add(Dropout(0.2))\n",
        "\n",
        "# add second LSTM layer\n",
        "model.add(LSTM(\n",
        "          units=3,\n",
        "          return_sequences=False))\n",
        "model.add(Dropout(0.2))\n",
        "model.add(Dense(units=nb_out))\n",
        "model.add(Activation('linear')) # For regression , 'linear is the activation\n",
        "#0.01 as learning rate\n",
        "optimizer = keras.optimizers.Adam(learning_rate = 0.01)\n",
        "model.compile(loss='mean_squared_error', optimizer=optimizer,metrics=['mse'])\n",
        "\n",
        "print(model.summary())\n",
        "\n"
      ]
    },
    {
      "cell_type": "markdown",
      "source": [
        "**Model Summary**\n",
        "LSTM Layer 1:\n",
        "\n",
        "Output Shape: (None, 30, 5)\n",
        "\n",
        "Parameters: 140\n",
        "\n",
        "This layer has 5 hidden units. It processes input sequences of length 30 with 1 feature each. The number of parameters is calculated as:\n",
        "units×(input_dim+units+1) =5×(1+5+1)=5×7=35\n",
        " (repeated for each of the 4 LSTM gates: input, forget, cell, output)\n",
        "\n",
        "Dropout Layer 1:\n",
        "\n",
        "Output Shape: (None, 30, 5)\n",
        "\n",
        "This layer applies dropout with a rate of 0.2 after the first LSTM layer to prevent overfitting.\n",
        "\n",
        "LSTM Layer 2:\n",
        "\n",
        "Output Shape: (None, 3)\n",
        "\n",
        "Parameters: 108\n",
        "\n",
        "This layer has 3 hidden units. It processes sequences with 5 features each. The number of parameters is calculated similarly:\n",
        "units×(input_dim+units+1) =3×(5+3+1)=3×9=27\n",
        " (repeated for each of the 4 LSTM gates: input, forget, cell, output)\n",
        "\n",
        "Dropout Layer 2:\n",
        "\n",
        "Output Shape: (None, 3)\n",
        "\n",
        "This layer applies dropout with a rate of 0.2 after the second LSTM layer.\n",
        "\n",
        "Dense Layer:\n",
        "\n",
        "Output Shape: (None, 1)\n",
        "\n",
        "Parameters: 4\n",
        "\n",
        "This layer has 1 unit (output). It takes the output of the second LSTM layer and applies a linear activation function for regression."
      ],
      "metadata": {
        "id": "WEIIYI3atD0w"
      },
      "id": "WEIIYI3atD0w"
    },
    {
      "cell_type": "code",
      "source": [
        "# fit the network\n",
        "#model.fit(??, ?? -> filled with seq_arrays & seq_labs\n",
        "history = model.fit(seq_arrays, seq_labs, epochs=100, batch_size=500, validation_split=0.05, verbose=2,\n",
        "          callbacks = [keras.callbacks.EarlyStopping(monitor='val_loss', min_delta=0, patience=10, verbose=0, mode='min'),\n",
        "                       keras.callbacks.ModelCheckpoint(model_path,monitor='val_loss', save_best_only=True, mode='min', verbose=0)]\n",
        "          )\n",
        "\n",
        "# list all data in history\n",
        "print(history.history.keys())"
      ],
      "metadata": {
        "colab": {
          "base_uri": "https://localhost:8080/",
          "height": 0
        },
        "id": "meDgUfiAtAyr",
        "outputId": "54f3ac9f-5c4e-4e5d-b5c5-3daaea7f59a1"
      },
      "id": "meDgUfiAtAyr",
      "execution_count": 7,
      "outputs": [
        {
          "output_type": "stream",
          "name": "stdout",
          "text": [
            "Epoch 1/100\n",
            "16/16 - 6s - 354ms/step - loss: 1.5930 - mse: 1.5930 - val_loss: 1.1804 - val_mse: 1.1804\n",
            "Epoch 2/100\n",
            "16/16 - 1s - 35ms/step - loss: 1.2736 - mse: 1.2736 - val_loss: 1.2572 - val_mse: 1.2572\n",
            "Epoch 3/100\n",
            "16/16 - 1s - 36ms/step - loss: 1.2494 - mse: 1.2494 - val_loss: 1.2167 - val_mse: 1.2167\n",
            "Epoch 4/100\n",
            "16/16 - 1s - 40ms/step - loss: 1.2265 - mse: 1.2265 - val_loss: 1.2213 - val_mse: 1.2213\n",
            "Epoch 5/100\n",
            "16/16 - 1s - 37ms/step - loss: 1.2162 - mse: 1.2162 - val_loss: 1.2175 - val_mse: 1.2175\n",
            "Epoch 6/100\n",
            "16/16 - 1s - 49ms/step - loss: 1.2059 - mse: 1.2059 - val_loss: 1.2325 - val_mse: 1.2325\n",
            "Epoch 7/100\n",
            "16/16 - 1s - 49ms/step - loss: 1.2045 - mse: 1.2045 - val_loss: 1.1955 - val_mse: 1.1955\n",
            "Epoch 8/100\n",
            "16/16 - 1s - 53ms/step - loss: 1.1830 - mse: 1.1830 - val_loss: 1.2132 - val_mse: 1.2132\n",
            "Epoch 9/100\n",
            "16/16 - 1s - 53ms/step - loss: 1.1519 - mse: 1.1519 - val_loss: 1.2039 - val_mse: 1.2039\n",
            "Epoch 10/100\n",
            "16/16 - 1s - 57ms/step - loss: 1.1373 - mse: 1.1373 - val_loss: 1.1695 - val_mse: 1.1695\n",
            "Epoch 11/100\n",
            "16/16 - 1s - 57ms/step - loss: 1.1436 - mse: 1.1436 - val_loss: 1.1587 - val_mse: 1.1587\n",
            "Epoch 12/100\n",
            "16/16 - 1s - 58ms/step - loss: 1.1423 - mse: 1.1423 - val_loss: 1.1647 - val_mse: 1.1647\n",
            "Epoch 13/100\n",
            "16/16 - 1s - 33ms/step - loss: 1.1347 - mse: 1.1347 - val_loss: 1.1819 - val_mse: 1.1819\n",
            "Epoch 14/100\n",
            "16/16 - 1s - 41ms/step - loss: 1.1281 - mse: 1.1281 - val_loss: 1.1480 - val_mse: 1.1480\n",
            "Epoch 15/100\n",
            "16/16 - 1s - 32ms/step - loss: 1.1226 - mse: 1.1226 - val_loss: 1.1608 - val_mse: 1.1608\n",
            "Epoch 16/100\n",
            "16/16 - 1s - 38ms/step - loss: 1.1195 - mse: 1.1195 - val_loss: 1.1686 - val_mse: 1.1686\n",
            "Epoch 17/100\n",
            "16/16 - 1s - 34ms/step - loss: 1.1117 - mse: 1.1117 - val_loss: 1.1472 - val_mse: 1.1472\n",
            "Epoch 18/100\n",
            "16/16 - 1s - 34ms/step - loss: 1.1274 - mse: 1.1274 - val_loss: 1.1883 - val_mse: 1.1883\n",
            "Epoch 19/100\n",
            "16/16 - 1s - 32ms/step - loss: 1.1092 - mse: 1.1092 - val_loss: 1.1663 - val_mse: 1.1663\n",
            "Epoch 20/100\n",
            "16/16 - 1s - 42ms/step - loss: 1.1181 - mse: 1.1181 - val_loss: 1.1438 - val_mse: 1.1438\n",
            "Epoch 21/100\n",
            "16/16 - 0s - 31ms/step - loss: 1.1075 - mse: 1.1075 - val_loss: 1.1636 - val_mse: 1.1636\n",
            "Epoch 22/100\n",
            "16/16 - 1s - 40ms/step - loss: 1.1115 - mse: 1.1115 - val_loss: 1.1536 - val_mse: 1.1536\n",
            "Epoch 23/100\n",
            "16/16 - 1s - 32ms/step - loss: 1.1098 - mse: 1.1098 - val_loss: 1.1469 - val_mse: 1.1469\n",
            "Epoch 24/100\n",
            "16/16 - 1s - 40ms/step - loss: 1.1038 - mse: 1.1038 - val_loss: 1.1544 - val_mse: 1.1544\n",
            "Epoch 25/100\n",
            "16/16 - 1s - 32ms/step - loss: 1.1064 - mse: 1.1064 - val_loss: 1.1503 - val_mse: 1.1503\n",
            "Epoch 26/100\n",
            "16/16 - 1s - 39ms/step - loss: 1.1044 - mse: 1.1044 - val_loss: 1.1545 - val_mse: 1.1545\n",
            "Epoch 27/100\n",
            "16/16 - 1s - 40ms/step - loss: 1.1014 - mse: 1.1014 - val_loss: 1.1673 - val_mse: 1.1673\n",
            "Epoch 28/100\n",
            "16/16 - 1s - 45ms/step - loss: 1.0998 - mse: 1.0998 - val_loss: 1.1670 - val_mse: 1.1670\n",
            "Epoch 29/100\n",
            "16/16 - 1s - 90ms/step - loss: 1.0994 - mse: 1.0994 - val_loss: 1.1454 - val_mse: 1.1454\n",
            "Epoch 30/100\n",
            "16/16 - 1s - 54ms/step - loss: 1.1005 - mse: 1.1005 - val_loss: 1.1630 - val_mse: 1.1630\n",
            "dict_keys(['loss', 'mse', 'val_loss', 'val_mse'])\n"
          ]
        }
      ]
    },
    {
      "cell_type": "markdown",
      "source": [
        "**Training Results**\n",
        "**Loss** (Training Loss): Mean Squared Error (MSE) on the training set. It started at 1.7336 and gradually decreased when reexecuted it starts from 1.4817 and gradually reduces the second time as I moved this block\n",
        "\n",
        "**MSE** (Training MSE): This is the same as the loss since MSE is used as the loss function.\n",
        "\n",
        "**Val Loss **(Validation Loss): MSE on the validation set. It started at 1.2634 and showed fluctuations.\n",
        "\n",
        "**Val MSE** (Validation MSE): This is the same as the validation loss.\n",
        "\n",
        "The MSE values indicate the average of the squared differences between the predicted and actual values. The lower the MSE, the better the model is performing."
      ],
      "metadata": {
        "id": "GsuCpj5Ztbrg"
      },
      "id": "GsuCpj5Ztbrg"
    },
    {
      "cell_type": "markdown",
      "id": "1c5dd990",
      "metadata": {
        "id": "1c5dd990"
      },
      "source": [
        "We will use the code from the book to visualize our training progress and model performance"
      ]
    },
    {
      "cell_type": "code",
      "execution_count": 8,
      "id": "18d4d9ec",
      "metadata": {
        "id": "18d4d9ec",
        "colab": {
          "base_uri": "https://localhost:8080/",
          "height": 872
        },
        "outputId": "73394024-64b5-47c8-f5ad-595308185316"
      },
      "outputs": [
        {
          "output_type": "display_data",
          "data": {
            "text/plain": [
              "<Figure size 1000x1000 with 1 Axes>"
            ],
            "image/png": "[encoded data removed]"
          },
          "metadata": {}
        }
      ],
      "source": [
        "# summarize history for Loss/MSE\n",
        "fig_acc = plt.figure(figsize=(10, 10))\n",
        "plt.plot(history.history['loss'])\n",
        "plt.plot(history.history['val_loss'])\n",
        "plt.title('model loss/MSE')\n",
        "plt.ylabel('loss')\n",
        "plt.xlabel('epoch')\n",
        "plt.legend(['train', 'test'], loc='upper left')\n",
        "plt.show()\n",
        "fig_acc.savefig(\"LSTM_loss1.png\")\n"
      ]
    },
    {
      "cell_type": "markdown",
      "source": [
        "## **Observations**\n",
        "**Model Training:**\n",
        "\n",
        "**The training loss **(MSE) ***decreased*** over the epochs, showing that the model is learning.\n",
        "\n",
        "**Validation loss **(MSE) showed ***fluctuations***, indicating potential overfitting or that the model needs further tuning.\n",
        "\n",
        "**Early Stopping:**\n",
        "\n",
        "Early stopping is used to stop training if the validation loss doesn't improve for a certain number of epochs (patience). This prevents overfitting and saves training time.\n",
        "\n",
        "**Next Steps**\n",
        "*Hyperparameter Tuning:*\n",
        "\n",
        "Experiment with different numbers of hidden units, learning rates, batch sizes, and dropout rates to find the best configuration.\n",
        "\n",
        "**More Data:**\n",
        "\n",
        "Use a larger subset or the entire dataset to improve model generalization.\n",
        "\n",
        "Feature Engineering:\n",
        "\n",
        "Try adding more features or different time lags to the model input."
      ],
      "metadata": {
        "id": "l_ycCvFPuL_Y"
      },
      "id": "l_ycCvFPuL_Y"
    },
    {
      "cell_type": "markdown",
      "id": "a0522509",
      "metadata": {
        "id": "a0522509"
      },
      "source": [
        "## Validating our model\n",
        "\n",
        "Now we need to create our simulated streaming validation set to test our model \"in production\". With our linear regression models, we were able to begin making predictions with only two datapoints, but the LSTM model requires an input sequence of *seq_length* to make a prediction. We can get around this limitation by \"padding\" our inputs when they are too short.\n",
        "\n",
        "**TODO: create a nested list structure for the validation data, with a sequence of GAP measurements as the input and the GAP measurement at your predictive horizon as your expected output. Begin your predictions after only two GAP measurements are available, and check out [this keras function](https://www.tensorflow.org/api_docs/python/tf/keras/utils/pad_sequences) to automatically pad sequences that are too short.**\n",
        "\n",
        "**Q: Describe the pad_sequences function and how it manages sequences of variable length. What does the \"padding\" argument determine, and which setting makes the most sense for our use case here?**\n",
        "\n",
        "A:"
      ]
    },
    {
      "cell_type": "code",
      "execution_count": 9,
      "id": "823ea44c",
      "metadata": {
        "id": "823ea44c"
      },
      "outputs": [],
      "source": [
        "val_arrays = []\n",
        "val_labs = []\n",
        "\n",
        "seq_length = 30\n",
        "ph = 5\n",
        "\n",
        "#create list of GAP readings starting with a minimum of two readings\n",
        "for i in range(2, len(val_df) - ph):\n",
        "    seq_input = val_df.loc[max(0, i - seq_length): i - 1, 'Global_active_power'].values\n",
        "    val_arrays.append(seq_input)\n",
        "    label = val_df.loc[i + ph - 1, 'Global_active_power']\n",
        "    val_labs.append(label)\n",
        "\n",
        "# use the pad_sequences function on your input sequences\n",
        "# remember that we will later want our datatype to be np.float32\n",
        "val_arrays = pad_sequences(val_arrays, maxlen=seq_length, dtype='float32', padding='pre', truncating='pre')\n",
        "\n",
        "#convert labels to numpy arrays and floats to appease keras/tensorflow\n",
        "val_labs = np.array(val_labs, dtype = object).astype(np.float32)\n",
        "\n",
        "import numpy as np\n",
        "from keras.preprocessing.sequence import pad_sequences\n",
        "\n",
        "val_arrays = []\n",
        "val_labs = []\n"
      ]
    },
    {
      "cell_type": "markdown",
      "source": [
        "**Create Sequences:** Starting with a minimum of two readings, create sequences of GAP measurements from the validation set. For the initial sequences (less than seq_length), take the available readings.\n",
        "\n",
        "**Padding: **Use the pad_sequences function from Keras to pad the sequences that are too short. This function ensures that all sequences have the same length (i.e., seq_length). Padding is done with zeros at the beginning of the sequences (padding='pre').\n",
        "\n",
        "**Convert Labels:** Convert the list of labels (val_labs) to a numpy array with the correct data type (np.float32)."
      ],
      "metadata": {
        "id": "vZ2k28hfzbG7"
      },
      "id": "vZ2k28hfzbG7"
    },
    {
      "cell_type": "markdown",
      "id": "a553f881",
      "metadata": {
        "id": "a553f881"
      },
      "source": [
        "We will now run this validation data through our LSTM model and visualize its performance like we did on the linear regression data."
      ]
    },
    {
      "cell_type": "code",
      "execution_count": 10,
      "id": "eaaf0946",
      "metadata": {
        "id": "eaaf0946",
        "colab": {
          "base_uri": "https://localhost:8080/",
          "height": 384
        },
        "outputId": "87e5ef70-55e2-4277-a06d-a277b466be6f"
      },
      "outputs": [
        {
          "output_type": "error",
          "ename": "KeyError",
          "evalue": "'pop from an empty set'",
          "traceback": [
            "\u001b[0;31m---------------------------------------------------------------------------\u001b[0m",
            "\u001b[0;31mKeyError\u001b[0m                                  Traceback (most recent call last)",
            "\u001b[0;32m<ipython-input-10-f968bfe3caa2>\u001b[0m in \u001b[0;36m<cell line: 0>\u001b[0;34m()\u001b[0m\n\u001b[0;32m----> 1\u001b[0;31m \u001b[0mscores_test\u001b[0m \u001b[0;34m=\u001b[0m \u001b[0mmodel\u001b[0m\u001b[0;34m.\u001b[0m\u001b[0mevaluate\u001b[0m\u001b[0;34m(\u001b[0m\u001b[0mval_arrays\u001b[0m\u001b[0;34m,\u001b[0m \u001b[0mval_labs\u001b[0m\u001b[0;34m,\u001b[0m \u001b[0mverbose\u001b[0m\u001b[0;34m=\u001b[0m\u001b[0;36m2\u001b[0m\u001b[0;34m)\u001b[0m\u001b[0;34m\u001b[0m\u001b[0;34m\u001b[0m\u001b[0m\n\u001b[0m\u001b[1;32m      2\u001b[0m \u001b[0mprint\u001b[0m\u001b[0;34m(\u001b[0m\u001b[0;34m'\\nMSE: {}'\u001b[0m\u001b[0;34m.\u001b[0m\u001b[0mformat\u001b[0m\u001b[0;34m(\u001b[0m\u001b[0mscores_test\u001b[0m\u001b[0;34m[\u001b[0m\u001b[0;36m1\u001b[0m\u001b[0;34m]\u001b[0m\u001b[0;34m)\u001b[0m\u001b[0;34m)\u001b[0m\u001b[0;34m\u001b[0m\u001b[0;34m\u001b[0m\u001b[0m\n\u001b[1;32m      3\u001b[0m \u001b[0;34m\u001b[0m\u001b[0m\n\u001b[1;32m      4\u001b[0m \u001b[0my_pred_test\u001b[0m \u001b[0;34m=\u001b[0m \u001b[0mmodel\u001b[0m\u001b[0;34m.\u001b[0m\u001b[0mpredict\u001b[0m\u001b[0;34m(\u001b[0m\u001b[0mval_arrays\u001b[0m\u001b[0;34m)\u001b[0m\u001b[0;34m\u001b[0m\u001b[0;34m\u001b[0m\u001b[0m\n\u001b[1;32m      5\u001b[0m \u001b[0my_true_test\u001b[0m \u001b[0;34m=\u001b[0m \u001b[0mval_labs\u001b[0m\u001b[0;34m\u001b[0m\u001b[0;34m\u001b[0m\u001b[0m\n",
            "\u001b[0;32m/usr/local/lib/python3.11/dist-packages/keras/src/utils/traceback_utils.py\u001b[0m in \u001b[0;36merror_handler\u001b[0;34m(*args, **kwargs)\u001b[0m\n\u001b[1;32m    120\u001b[0m             \u001b[0;31m# To get the full stack trace, call:\u001b[0m\u001b[0;34m\u001b[0m\u001b[0;34m\u001b[0m\u001b[0m\n\u001b[1;32m    121\u001b[0m             \u001b[0;31m# `keras.config.disable_traceback_filtering()`\u001b[0m\u001b[0;34m\u001b[0m\u001b[0;34m\u001b[0m\u001b[0m\n\u001b[0;32m--> 122\u001b[0;31m             \u001b[0;32mraise\u001b[0m \u001b[0me\u001b[0m\u001b[0;34m.\u001b[0m\u001b[0mwith_traceback\u001b[0m\u001b[0;34m(\u001b[0m\u001b[0mfiltered_tb\u001b[0m\u001b[0;34m)\u001b[0m \u001b[0;32mfrom\u001b[0m \u001b[0;32mNone\u001b[0m\u001b[0;34m\u001b[0m\u001b[0;34m\u001b[0m\u001b[0m\n\u001b[0m\u001b[1;32m    123\u001b[0m         \u001b[0;32mfinally\u001b[0m\u001b[0;34m:\u001b[0m\u001b[0;34m\u001b[0m\u001b[0;34m\u001b[0m\u001b[0m\n\u001b[1;32m    124\u001b[0m             \u001b[0;32mdel\u001b[0m \u001b[0mfiltered_tb\u001b[0m\u001b[0;34m\u001b[0m\u001b[0;34m\u001b[0m\u001b[0m\n",
            "\u001b[0;32m/usr/local/lib/python3.11/dist-packages/keras/src/trainers/data_adapters/array_data_adapter.py\u001b[0m in \u001b[0;36m__init__\u001b[0;34m(self, x, y, sample_weight, batch_size, steps, shuffle, class_weight)\u001b[0m\n\u001b[1;32m     77\u001b[0m \u001b[0;34m\u001b[0m\u001b[0m\n\u001b[1;32m     78\u001b[0m         \u001b[0mdata_adapter_utils\u001b[0m\u001b[0;34m.\u001b[0m\u001b[0mcheck_data_cardinality\u001b[0m\u001b[0;34m(\u001b[0m\u001b[0minputs\u001b[0m\u001b[0;34m)\u001b[0m\u001b[0;34m\u001b[0m\u001b[0;34m\u001b[0m\u001b[0m\n\u001b[0;32m---> 79\u001b[0;31m         \u001b[0mnum_samples\u001b[0m \u001b[0;34m=\u001b[0m \u001b[0mset\u001b[0m\u001b[0;34m(\u001b[0m\u001b[0mi\u001b[0m\u001b[0;34m.\u001b[0m\u001b[0mshape\u001b[0m\u001b[0;34m[\u001b[0m\u001b[0;36m0\u001b[0m\u001b[0;34m]\u001b[0m \u001b[0;32mfor\u001b[0m \u001b[0mi\u001b[0m \u001b[0;32min\u001b[0m \u001b[0mtree\u001b[0m\u001b[0;34m.\u001b[0m\u001b[0mflatten\u001b[0m\u001b[0;34m(\u001b[0m\u001b[0minputs\u001b[0m\u001b[0;34m)\u001b[0m\u001b[0;34m)\u001b[0m\u001b[0;34m.\u001b[0m\u001b[0mpop\u001b[0m\u001b[0;34m(\u001b[0m\u001b[0;34m)\u001b[0m\u001b[0;34m\u001b[0m\u001b[0;34m\u001b[0m\u001b[0m\n\u001b[0m\u001b[1;32m     80\u001b[0m         \u001b[0mself\u001b[0m\u001b[0;34m.\u001b[0m\u001b[0m_num_samples\u001b[0m \u001b[0;34m=\u001b[0m \u001b[0mnum_samples\u001b[0m\u001b[0;34m\u001b[0m\u001b[0;34m\u001b[0m\u001b[0m\n\u001b[1;32m     81\u001b[0m         \u001b[0mself\u001b[0m\u001b[0;34m.\u001b[0m\u001b[0m_inputs\u001b[0m \u001b[0;34m=\u001b[0m \u001b[0minputs\u001b[0m\u001b[0;34m\u001b[0m\u001b[0;34m\u001b[0m\u001b[0m\n",
            "\u001b[0;31mKeyError\u001b[0m: 'pop from an empty set'"
          ]
        }
      ],
      "source": [
        "scores_test = model.evaluate(val_arrays, val_labs, verbose=2)\n",
        "print('\\nMSE: {}'.format(scores_test[1]))\n",
        "\n",
        "y_pred_test = model.predict(val_arrays)\n",
        "y_true_test = val_labs\n",
        "\n",
        "test_set = pd.DataFrame(y_pred_test)\n",
        "test_set.to_csv('submit_test.csv', index = None)\n",
        "\n",
        "# Plot the predicted data vs. the actual data\n",
        "# we will limit our plot to the first 500 predictions for better visualization\n",
        "fig_verify = plt.figure(figsize=(10, 5))\n",
        "plt.plot(y_pred_test[-500:], label = 'Predicted Value')\n",
        "plt.plot(y_true_test[-500:], label = 'Actual Value')\n",
        "plt.title('Global Active Power Prediction - Last 500 Points', fontsize=22, fontweight='bold')\n",
        "plt.ylabel('value')\n",
        "plt.xlabel('row')\n",
        "plt.legend()\n",
        "plt.show()\n",
        "fig_verify.savefig(\"model_regression_verify.png\")"
      ]
    },
    {
      "source": [
        "val_arrays = []\n",
        "val_labs = []\n",
        "\n",
        "seq_length = 30\n",
        "ph = 5\n",
        "\n",
        "#create list of GAP readings starting with a minimum of two readings\n",
        "for i in range(2, len(val_df) - ph):\n",
        "    seq_input = val_df.loc[max(0, i - seq_length): i - 1, 'Global_active_power'].values\n",
        "    val_arrays.append(seq_input)\n",
        "    label = val_df.loc[i + ph - 1, 'Global_active_power']\n",
        "    val_labs.append(label)\n",
        "\n",
        "# use the pad_sequences function on your input sequences\n",
        "# remember that we will later want our datatype to be np.float32\n",
        "val_arrays = pad_sequences(val_arrays, maxlen=seq_length, dtype='float32', padding='pre', truncating='pre')\n",
        "\n",
        "#convert labels to numpy arrays and floats to appease keras/tensorflow\n",
        "val_labs = np.array(val_labs, dtype = object).astype(np.float32)\n",
        "\n",
        "# Remove the lines below that reinitialize val_arrays and val_labs\n",
        "# import numpy as np\n",
        "# from keras.preprocessing.sequence import pad_sequences\n",
        "#\n",
        "# val_arrays = []\n",
        "# val_labs = []"
      ],
      "cell_type": "code",
      "metadata": {
        "id": "BjJlA6Ns01L5"
      },
      "id": "BjJlA6Ns01L5",
      "execution_count": 11,
      "outputs": []
    },
    {
      "cell_type": "code",
      "source": [
        "scores_test = model.evaluate(val_arrays, val_labs, verbose=2)\n",
        "print('\\nMSE: {}'.format(scores_test[1]))\n",
        "\n",
        "y_pred_test = model.predict(val_arrays)\n",
        "y_true_test = val_labs\n",
        "\n",
        "test_set = pd.DataFrame(y_pred_test)\n",
        "test_set.to_csv('submit_test.csv', index = None)\n",
        "\n",
        "# Plot the predicted data vs. the actual data\n",
        "# we will limit our plot to the first 500 predictions for better visualization\n",
        "fig_verify = plt.figure(figsize=(10, 5))\n",
        "plt.plot(y_pred_test[-500:], label = 'Predicted Value')\n",
        "plt.plot(y_true_test[-500:], label = 'Actual Value')\n",
        "plt.title('Global Active Power Prediction - Last 500 Points', fontsize=22, fontweight='bold')\n",
        "plt.ylabel('value')\n",
        "plt.xlabel('row')\n",
        "plt.legend()\n",
        "plt.show()\n",
        "fig_verify.savefig(\"model_regression_verify.png\")"
      ],
      "metadata": {
        "colab": {
          "base_uri": "https://localhost:8080/",
          "height": 492
        },
        "id": "PieujcrC1j4r",
        "outputId": "20ac3dbd-2ae1-412a-f66d-159dd365e206"
      },
      "id": "PieujcrC1j4r",
      "execution_count": 12,
      "outputs": [
        {
          "output_type": "error",
          "ename": "ValueError",
          "evalue": "Exception encountered when calling Sequential.call().\n\n\u001b[1mCannot take the length of shape with unknown rank.\u001b[0m\n\nArguments received by Sequential.call():\n  • inputs=tf.Tensor(shape=<unknown>, dtype=float32)\n  • training=False\n  • mask=None",
          "traceback": [
            "\u001b[0;31m---------------------------------------------------------------------------\u001b[0m",
            "\u001b[0;31mValueError\u001b[0m                                Traceback (most recent call last)",
            "\u001b[0;32m<ipython-input-12-f968bfe3caa2>\u001b[0m in \u001b[0;36m<cell line: 0>\u001b[0;34m()\u001b[0m\n\u001b[0;32m----> 1\u001b[0;31m \u001b[0mscores_test\u001b[0m \u001b[0;34m=\u001b[0m \u001b[0mmodel\u001b[0m\u001b[0;34m.\u001b[0m\u001b[0mevaluate\u001b[0m\u001b[0;34m(\u001b[0m\u001b[0mval_arrays\u001b[0m\u001b[0;34m,\u001b[0m \u001b[0mval_labs\u001b[0m\u001b[0;34m,\u001b[0m \u001b[0mverbose\u001b[0m\u001b[0;34m=\u001b[0m\u001b[0;36m2\u001b[0m\u001b[0;34m)\u001b[0m\u001b[0;34m\u001b[0m\u001b[0;34m\u001b[0m\u001b[0m\n\u001b[0m\u001b[1;32m      2\u001b[0m \u001b[0mprint\u001b[0m\u001b[0;34m(\u001b[0m\u001b[0;34m'\\nMSE: {}'\u001b[0m\u001b[0;34m.\u001b[0m\u001b[0mformat\u001b[0m\u001b[0;34m(\u001b[0m\u001b[0mscores_test\u001b[0m\u001b[0;34m[\u001b[0m\u001b[0;36m1\u001b[0m\u001b[0;34m]\u001b[0m\u001b[0;34m)\u001b[0m\u001b[0;34m)\u001b[0m\u001b[0;34m\u001b[0m\u001b[0;34m\u001b[0m\u001b[0m\n\u001b[1;32m      3\u001b[0m \u001b[0;34m\u001b[0m\u001b[0m\n\u001b[1;32m      4\u001b[0m \u001b[0my_pred_test\u001b[0m \u001b[0;34m=\u001b[0m \u001b[0mmodel\u001b[0m\u001b[0;34m.\u001b[0m\u001b[0mpredict\u001b[0m\u001b[0;34m(\u001b[0m\u001b[0mval_arrays\u001b[0m\u001b[0;34m)\u001b[0m\u001b[0;34m\u001b[0m\u001b[0;34m\u001b[0m\u001b[0m\n\u001b[1;32m      5\u001b[0m \u001b[0my_true_test\u001b[0m \u001b[0;34m=\u001b[0m \u001b[0mval_labs\u001b[0m\u001b[0;34m\u001b[0m\u001b[0;34m\u001b[0m\u001b[0m\n",
            "\u001b[0;32m/usr/local/lib/python3.11/dist-packages/keras/src/utils/traceback_utils.py\u001b[0m in \u001b[0;36merror_handler\u001b[0;34m(*args, **kwargs)\u001b[0m\n\u001b[1;32m    120\u001b[0m             \u001b[0;31m# To get the full stack trace, call:\u001b[0m\u001b[0;34m\u001b[0m\u001b[0;34m\u001b[0m\u001b[0m\n\u001b[1;32m    121\u001b[0m             \u001b[0;31m# `keras.config.disable_traceback_filtering()`\u001b[0m\u001b[0;34m\u001b[0m\u001b[0;34m\u001b[0m\u001b[0m\n\u001b[0;32m--> 122\u001b[0;31m             \u001b[0;32mraise\u001b[0m \u001b[0me\u001b[0m\u001b[0;34m.\u001b[0m\u001b[0mwith_traceback\u001b[0m\u001b[0;34m(\u001b[0m\u001b[0mfiltered_tb\u001b[0m\u001b[0;34m)\u001b[0m \u001b[0;32mfrom\u001b[0m \u001b[0;32mNone\u001b[0m\u001b[0;34m\u001b[0m\u001b[0;34m\u001b[0m\u001b[0m\n\u001b[0m\u001b[1;32m    123\u001b[0m         \u001b[0;32mfinally\u001b[0m\u001b[0;34m:\u001b[0m\u001b[0;34m\u001b[0m\u001b[0;34m\u001b[0m\u001b[0m\n\u001b[1;32m    124\u001b[0m             \u001b[0;32mdel\u001b[0m \u001b[0mfiltered_tb\u001b[0m\u001b[0;34m\u001b[0m\u001b[0;34m\u001b[0m\u001b[0m\n",
            "\u001b[0;32m/usr/local/lib/python3.11/dist-packages/keras/src/utils/traceback_utils.py\u001b[0m in \u001b[0;36merror_handler\u001b[0;34m(*args, **kwargs)\u001b[0m\n\u001b[1;32m    122\u001b[0m             \u001b[0;32mraise\u001b[0m \u001b[0me\u001b[0m\u001b[0;34m.\u001b[0m\u001b[0mwith_traceback\u001b[0m\u001b[0;34m(\u001b[0m\u001b[0mfiltered_tb\u001b[0m\u001b[0;34m)\u001b[0m \u001b[0;32mfrom\u001b[0m \u001b[0;32mNone\u001b[0m\u001b[0;34m\u001b[0m\u001b[0;34m\u001b[0m\u001b[0m\n\u001b[1;32m    123\u001b[0m         \u001b[0;32mfinally\u001b[0m\u001b[0;34m:\u001b[0m\u001b[0;34m\u001b[0m\u001b[0;34m\u001b[0m\u001b[0m\n\u001b[0;32m--> 124\u001b[0;31m             \u001b[0;32mdel\u001b[0m \u001b[0mfiltered_tb\u001b[0m\u001b[0;34m\u001b[0m\u001b[0;34m\u001b[0m\u001b[0m\n\u001b[0m\u001b[1;32m    125\u001b[0m \u001b[0;34m\u001b[0m\u001b[0m\n\u001b[1;32m    126\u001b[0m     \u001b[0;32mreturn\u001b[0m \u001b[0merror_handler\u001b[0m\u001b[0;34m\u001b[0m\u001b[0;34m\u001b[0m\u001b[0m\n",
            "\u001b[0;31mValueError\u001b[0m: Exception encountered when calling Sequential.call().\n\n\u001b[1mCannot take the length of shape with unknown rank.\u001b[0m\n\nArguments received by Sequential.call():\n  • inputs=tf.Tensor(shape=<unknown>, dtype=float32)\n  • training=False\n  • mask=None"
          ]
        }
      ]
    },
    {
      "source": [
        "# Reshape val_arrays to have 3 dimensions\n",
        "val_arrays = val_arrays.reshape(val_arrays.shape[0], val_arrays.shape[1], 1)\n",
        "\n",
        "# Now evaluate the model\n",
        "scores_test = model.evaluate(val_arrays, val_labs, verbose=2)\n",
        "print('\\nMSE: {}'.format(scores_test[1]))\n",
        "\n",
        "y_pred_test = model.predict(val_arrays)\n",
        "y_true_test = val_labs\n",
        "\n",
        "test_set = pd.DataFrame(y_pred_test)\n",
        "test_set.to_csv('submit_test.csv', index = None)\n",
        "\n",
        "# Plot the predicted data vs. the actual data\n",
        "# we will limit our plot to the first 500 predictions for better visualization\n",
        "fig_verify = plt.figure(figsize=(10, 5))\n",
        "plt.plot(y_pred_test[-500:], label = 'Predicted Value')\n",
        "plt.plot(y_true_test[-500:], label = 'Actual Value')\n",
        "plt.title('Global Active Power Prediction - Last 500 Points', fontsize=22, fontweight='bold')\n",
        "plt.ylabel('value')\n",
        "plt.xlabel('row')\n",
        "plt.legend()\n",
        "plt.show()\n",
        "fig_verify.savefig(\"model_regression_verify.png\")"
      ],
      "cell_type": "code",
      "metadata": {
        "colab": {
          "base_uri": "https://localhost:8080/",
          "height": 568
        },
        "id": "W_LRyYF11u0D",
        "outputId": "4e502a40-f22d-4036-9dd9-100a31e3998e"
      },
      "id": "W_LRyYF11u0D",
      "execution_count": 13,
      "outputs": [
        {
          "output_type": "stream",
          "name": "stdout",
          "text": [
            "63/63 - 0s - 6ms/step - loss: 0.8133 - mse: 0.8133\n",
            "\n",
            "MSE: 0.813265323638916\n",
            "\u001b[1m63/63\u001b[0m \u001b[32m━━━━━━━━━━━━━━━━━━━━\u001b[0m\u001b[37m\u001b[0m \u001b[1m1s\u001b[0m 10ms/step\n"
          ]
        },
        {
          "output_type": "display_data",
          "data": {
            "text/plain": [
              "<Figure size 1000x500 with 1 Axes>"
            ],
            "image/png": "[encoded data removed]"
          },
          "metadata": {}
        }
      ]
    },
    {
      "cell_type": "markdown",
      "id": "fb5fcbe0",
      "metadata": {
        "id": "fb5fcbe0"
      },
      "source": [
        "**Q: How did your model perform? What can you tell about the model from the loss curves? What could we do to try to improve the model?**\n",
        "\n",
        "A:# **Model Performance**\n",
        "**Mean Squared Error (MSE):**\n",
        "\n",
        "The training loss (MSE) *decreased* steadily over the epochs, indicating that the model is learning and fitting to the training data.\n",
        "\n",
        "The validation loss (MSE) initially *decreased* but showed some fluctuations, suggesting that the model might be overfitting or that the validation set might not be perfectly representative of the training data.\n",
        "\n",
        "**Prediction Accuracy:**\n",
        "\n",
        "The model's predicted values closely follow the actual values for the last 500 points, although there might be some *deviations*.\n",
        "\n",
        "**Loss Curves Analysis**\n",
        "Training Loss Curve:\n",
        "\n",
        "The *steady decrease in training loss over epochs* is a good sign that the model is learning from the training data.\n",
        "\n",
        "However, if the training loss becomes too low while the validation loss remains high, it could indicate overfitting.\n",
        "\n",
        "**Validation Loss Curve:**\n",
        "\n",
        "The validation loss curve shows fluctuations. This might indicate that the model is not generalizing well to unseen data.\n",
        "\n",
        "The patience parameter in the early stopping callback might prevent the model from overfitting, but it also indicates that the model needs further tuning to improve validation performance.\n",
        "\n",
        "\n",
        "## Model Optimization\n",
        "\n",
        "Now it's your turn to build an LSTM-based model in hopes of improving performance on this training set. Changes that you might consider include:\n",
        "\n",
        "- Add more variables to the input sequences\n",
        "- Change the optimizer and/or adjust the learning rate\n",
        "- Change the sequence length and/or the predictive horizon\n",
        "- Change the number of hidden layers in each of the LSTM layers\n",
        "- Change the model architecture altogether--think about adding convolutional layers, linear layers, additional regularization, creating embeddings for the input data, changing the loss function, etc.\n",
        "\n",
        "There isn't any minimum performance increase or number of changes that need to be made, but I want to see that you have tried some different things. Remember that building and optimizing deep learning networks is an art and can be very difficult, so don't make yourself crazy trying to optimize for this assignment.\n",
        "\n",
        "**Q: What changes are you going to try with your model? Why do you think these changes could improve model performance?**\n",
        "\n",
        "A:"
      ]
    },
    {
      "cell_type": "code",
      "source": [
        "# play with your ideas for optimization here\n",
        "import pandas as pd\n",
        "import numpy as np\n",
        "import matplotlib.pyplot as plt\n",
        "import os\n",
        "import random\n",
        "import tensorflow as tf\n",
        "from tensorflow import keras\n",
        "from tensorflow.keras.models import Sequential\n",
        "from tensorflow.keras.layers import Dense, Dropout, LSTM, Activation, Conv1D, MaxPooling1D, Flatten"
      ],
      "metadata": {
        "id": "cEdt75X3gMNa"
      },
      "id": "cEdt75X3gMNa",
      "execution_count": 20,
      "outputs": []
    },
    {
      "cell_type": "code",
      "source": [
        "#Pre existing code\n",
        "\n",
        "# Load data (assuming df is already loaded and preprocessed as before)\n",
        "df['Datetime'] = pd.to_datetime(df['Date'] + ' ' + df['Time'])  # Combining Date and Time columns into Datetime\n",
        "\n",
        "# Length of dataframe\n",
        "print(f'Length of DataFrame: {len(df)}')\n",
        "\n",
        "# Select a subset of the data\n",
        "subset_size = 10000  # Or use len(df) for the entire dataset\n",
        "df_subset = df.sample(n=subset_size, random_state=42)\n",
        "df_subset.reset_index(drop=True, inplace=True)\n",
        "\n",
        "# Split the subset into training and validation sets\n",
        "df_subset.sort_values('Datetime', inplace=True)\n",
        "df_subset.reset_index(drop=True, inplace=True)\n",
        "split_index = int(0.8 * len(df_subset))\n",
        "train_df = df_subset[:split_index]\n",
        "val_df = df_subset[split_index:]\n",
        "train_df.reset_index(drop=True, inplace=True)\n",
        "val_df.reset_index(drop=True, inplace=True)\n",
        "\n",
        "# Create sequences and labels\n",
        "seq_arrays = []\n",
        "seq_labs = []"
      ],
      "metadata": {
        "colab": {
          "base_uri": "https://localhost:8080/",
          "height": 0
        },
        "id": "tlt2F4jkgQuS",
        "outputId": "490ead2f-bf33-4be8-d60d-6dbf6903d07d"
      },
      "id": "tlt2F4jkgQuS",
      "execution_count": 21,
      "outputs": [
        {
          "output_type": "stream",
          "name": "stdout",
          "text": [
            "Length of DataFrame: 2049251\n"
          ]
        }
      ]
    },
    {
      "cell_type": "code",
      "execution_count": 22,
      "id": "e50afded",
      "metadata": {
        "id": "e50afded",
        "colab": {
          "base_uri": "https://localhost:8080/",
          "height": 3120
        },
        "outputId": "2f46cfe0-6d7f-44f3-89ca-5e7c61d090d5"
      },
      "outputs": [
        {
          "output_type": "stream",
          "name": "stderr",
          "text": [
            "/usr/local/lib/python3.11/dist-packages/keras/src/layers/rnn/rnn.py:200: UserWarning: Do not pass an `input_shape`/`input_dim` argument to a layer. When using Sequential models, prefer using an `Input(shape)` object as the first layer in the model instead.\n",
            "  super().__init__(**kwargs)\n"
          ]
        },
        {
          "output_type": "display_data",
          "data": {
            "text/plain": [
              "\u001b[1mModel: \"sequential_3\"\u001b[0m\n"
            ],
            "text/html": [
              "<pre style=\"white-space:pre;overflow-x:auto;line-height:normal;font-family:Menlo,'DejaVu Sans Mono',consolas,'Courier New',monospace\"><span style=\"font-weight: bold\">Model: \"sequential_3\"</span>\n",
              "</pre>\n"
            ]
          },
          "metadata": {}
        },
        {
          "output_type": "display_data",
          "data": {
            "text/plain": [
              "┏━━━━━━━━━━━━━━━━━━━━━━━━━━━━━━━━━━━━━━┳━━━━━━━━━━━━━━━━━━━━━━━━━━━━━┳━━━━━━━━━━━━━━━━━┓\n",
              "┃\u001b[1m \u001b[0m\u001b[1mLayer (type)                        \u001b[0m\u001b[1m \u001b[0m┃\u001b[1m \u001b[0m\u001b[1mOutput Shape               \u001b[0m\u001b[1m \u001b[0m┃\u001b[1m \u001b[0m\u001b[1m        Param #\u001b[0m\u001b[1m \u001b[0m┃\n",
              "┡━━━━━━━━━━━━━━━━━━━━━━━━━━━━━━━━━━━━━━╇━━━━━━━━━━━━━━━━━━━━━━━━━━━━━╇━━━━━━━━━━━━━━━━━┩\n",
              "│ lstm_4 (\u001b[38;5;33mLSTM\u001b[0m)                        │ (\u001b[38;5;45mNone\u001b[0m, \u001b[38;5;34m50\u001b[0m, \u001b[38;5;34m10\u001b[0m)              │             \u001b[38;5;34m560\u001b[0m │\n",
              "├──────────────────────────────────────┼─────────────────────────────┼─────────────────┤\n",
              "│ dropout_5 (\u001b[38;5;33mDropout\u001b[0m)                  │ (\u001b[38;5;45mNone\u001b[0m, \u001b[38;5;34m50\u001b[0m, \u001b[38;5;34m10\u001b[0m)              │               \u001b[38;5;34m0\u001b[0m │\n",
              "├──────────────────────────────────────┼─────────────────────────────┼─────────────────┤\n",
              "│ lstm_5 (\u001b[38;5;33mLSTM\u001b[0m)                        │ (\u001b[38;5;45mNone\u001b[0m, \u001b[38;5;34m5\u001b[0m)                   │             \u001b[38;5;34m320\u001b[0m │\n",
              "├──────────────────────────────────────┼─────────────────────────────┼─────────────────┤\n",
              "│ dropout_6 (\u001b[38;5;33mDropout\u001b[0m)                  │ (\u001b[38;5;45mNone\u001b[0m, \u001b[38;5;34m5\u001b[0m)                   │               \u001b[38;5;34m0\u001b[0m │\n",
              "├──────────────────────────────────────┼─────────────────────────────┼─────────────────┤\n",
              "│ dense_4 (\u001b[38;5;33mDense\u001b[0m)                      │ (\u001b[38;5;45mNone\u001b[0m, \u001b[38;5;34m1\u001b[0m)                   │               \u001b[38;5;34m6\u001b[0m │\n",
              "├──────────────────────────────────────┼─────────────────────────────┼─────────────────┤\n",
              "│ activation_3 (\u001b[38;5;33mActivation\u001b[0m)            │ (\u001b[38;5;45mNone\u001b[0m, \u001b[38;5;34m1\u001b[0m)                   │               \u001b[38;5;34m0\u001b[0m │\n",
              "└──────────────────────────────────────┴─────────────────────────────┴─────────────────┘\n"
            ],
            "text/html": [
              "<pre style=\"white-space:pre;overflow-x:auto;line-height:normal;font-family:Menlo,'DejaVu Sans Mono',consolas,'Courier New',monospace\">┏━━━━━━━━━━━━━━━━━━━━━━━━━━━━━━━━━━━━━━┳━━━━━━━━━━━━━━━━━━━━━━━━━━━━━┳━━━━━━━━━━━━━━━━━┓\n",
              "┃<span style=\"font-weight: bold\"> Layer (type)                         </span>┃<span style=\"font-weight: bold\"> Output Shape                </span>┃<span style=\"font-weight: bold\">         Param # </span>┃\n",
              "┡━━━━━━━━━━━━━━━━━━━━━━━━━━━━━━━━━━━━━━╇━━━━━━━━━━━━━━━━━━━━━━━━━━━━━╇━━━━━━━━━━━━━━━━━┩\n",
              "│ lstm_4 (<span style=\"color: #0087ff; text-decoration-color: #0087ff\">LSTM</span>)                        │ (<span style=\"color: #00d7ff; text-decoration-color: #00d7ff\">None</span>, <span style=\"color: #00af00; text-decoration-color: #00af00\">50</span>, <span style=\"color: #00af00; text-decoration-color: #00af00\">10</span>)              │             <span style=\"color: #00af00; text-decoration-color: #00af00\">560</span> │\n",
              "├──────────────────────────────────────┼─────────────────────────────┼─────────────────┤\n",
              "│ dropout_5 (<span style=\"color: #0087ff; text-decoration-color: #0087ff\">Dropout</span>)                  │ (<span style=\"color: #00d7ff; text-decoration-color: #00d7ff\">None</span>, <span style=\"color: #00af00; text-decoration-color: #00af00\">50</span>, <span style=\"color: #00af00; text-decoration-color: #00af00\">10</span>)              │               <span style=\"color: #00af00; text-decoration-color: #00af00\">0</span> │\n",
              "├──────────────────────────────────────┼─────────────────────────────┼─────────────────┤\n",
              "│ lstm_5 (<span style=\"color: #0087ff; text-decoration-color: #0087ff\">LSTM</span>)                        │ (<span style=\"color: #00d7ff; text-decoration-color: #00d7ff\">None</span>, <span style=\"color: #00af00; text-decoration-color: #00af00\">5</span>)                   │             <span style=\"color: #00af00; text-decoration-color: #00af00\">320</span> │\n",
              "├──────────────────────────────────────┼─────────────────────────────┼─────────────────┤\n",
              "│ dropout_6 (<span style=\"color: #0087ff; text-decoration-color: #0087ff\">Dropout</span>)                  │ (<span style=\"color: #00d7ff; text-decoration-color: #00d7ff\">None</span>, <span style=\"color: #00af00; text-decoration-color: #00af00\">5</span>)                   │               <span style=\"color: #00af00; text-decoration-color: #00af00\">0</span> │\n",
              "├──────────────────────────────────────┼─────────────────────────────┼─────────────────┤\n",
              "│ dense_4 (<span style=\"color: #0087ff; text-decoration-color: #0087ff\">Dense</span>)                      │ (<span style=\"color: #00d7ff; text-decoration-color: #00d7ff\">None</span>, <span style=\"color: #00af00; text-decoration-color: #00af00\">1</span>)                   │               <span style=\"color: #00af00; text-decoration-color: #00af00\">6</span> │\n",
              "├──────────────────────────────────────┼─────────────────────────────┼─────────────────┤\n",
              "│ activation_3 (<span style=\"color: #0087ff; text-decoration-color: #0087ff\">Activation</span>)            │ (<span style=\"color: #00d7ff; text-decoration-color: #00d7ff\">None</span>, <span style=\"color: #00af00; text-decoration-color: #00af00\">1</span>)                   │               <span style=\"color: #00af00; text-decoration-color: #00af00\">0</span> │\n",
              "└──────────────────────────────────────┴─────────────────────────────┴─────────────────┘\n",
              "</pre>\n"
            ]
          },
          "metadata": {}
        },
        {
          "output_type": "display_data",
          "data": {
            "text/plain": [
              "\u001b[1m Total params: \u001b[0m\u001b[38;5;34m886\u001b[0m (3.46 KB)\n"
            ],
            "text/html": [
              "<pre style=\"white-space:pre;overflow-x:auto;line-height:normal;font-family:Menlo,'DejaVu Sans Mono',consolas,'Courier New',monospace\"><span style=\"font-weight: bold\"> Total params: </span><span style=\"color: #00af00; text-decoration-color: #00af00\">886</span> (3.46 KB)\n",
              "</pre>\n"
            ]
          },
          "metadata": {}
        },
        {
          "output_type": "display_data",
          "data": {
            "text/plain": [
              "\u001b[1m Trainable params: \u001b[0m\u001b[38;5;34m886\u001b[0m (3.46 KB)\n"
            ],
            "text/html": [
              "<pre style=\"white-space:pre;overflow-x:auto;line-height:normal;font-family:Menlo,'DejaVu Sans Mono',consolas,'Courier New',monospace\"><span style=\"font-weight: bold\"> Trainable params: </span><span style=\"color: #00af00; text-decoration-color: #00af00\">886</span> (3.46 KB)\n",
              "</pre>\n"
            ]
          },
          "metadata": {}
        },
        {
          "output_type": "display_data",
          "data": {
            "text/plain": [
              "\u001b[1m Non-trainable params: \u001b[0m\u001b[38;5;34m0\u001b[0m (0.00 B)\n"
            ],
            "text/html": [
              "<pre style=\"white-space:pre;overflow-x:auto;line-height:normal;font-family:Menlo,'DejaVu Sans Mono',consolas,'Courier New',monospace\"><span style=\"font-weight: bold\"> Non-trainable params: </span><span style=\"color: #00af00; text-decoration-color: #00af00\">0</span> (0.00 B)\n",
              "</pre>\n"
            ]
          },
          "metadata": {}
        },
        {
          "output_type": "stream",
          "name": "stdout",
          "text": [
            "None\n",
            "Epoch 1/100\n",
            "16/16 - 7s - 415ms/step - loss: 2.9856 - mse: 2.9856 - val_loss: 3.3675 - val_mse: 3.3675\n",
            "Epoch 2/100\n",
            "16/16 - 2s - 140ms/step - loss: 2.4869 - mse: 2.4869 - val_loss: 2.8664 - val_mse: 2.8664\n",
            "Epoch 3/100\n",
            "16/16 - 1s - 79ms/step - loss: 2.1432 - mse: 2.1432 - val_loss: 2.4606 - val_mse: 2.4606\n",
            "Epoch 4/100\n",
            "16/16 - 1s - 80ms/step - loss: 1.8570 - mse: 1.8570 - val_loss: 2.0929 - val_mse: 2.0929\n",
            "Epoch 5/100\n",
            "16/16 - 1s - 60ms/step - loss: 1.6055 - mse: 1.6055 - val_loss: 1.7400 - val_mse: 1.7400\n",
            "Epoch 6/100\n",
            "16/16 - 1s - 60ms/step - loss: 1.3906 - mse: 1.3906 - val_loss: 1.4429 - val_mse: 1.4429\n",
            "Epoch 7/100\n",
            "16/16 - 1s - 60ms/step - loss: 1.2645 - mse: 1.2645 - val_loss: 1.2688 - val_mse: 1.2688\n",
            "Epoch 8/100\n",
            "16/16 - 1s - 79ms/step - loss: 1.2422 - mse: 1.2422 - val_loss: 1.2157 - val_mse: 1.2157\n",
            "Epoch 9/100\n",
            "16/16 - 1s - 57ms/step - loss: 1.2432 - mse: 1.2432 - val_loss: 1.2185 - val_mse: 1.2185\n",
            "Epoch 10/100\n",
            "16/16 - 1s - 58ms/step - loss: 1.2378 - mse: 1.2378 - val_loss: 1.2330 - val_mse: 1.2330\n",
            "Epoch 11/100\n",
            "16/16 - 1s - 81ms/step - loss: 1.2216 - mse: 1.2216 - val_loss: 1.2303 - val_mse: 1.2303\n",
            "Epoch 12/100\n",
            "16/16 - 2s - 110ms/step - loss: 1.2393 - mse: 1.2393 - val_loss: 1.2241 - val_mse: 1.2241\n",
            "Epoch 13/100\n",
            "16/16 - 2s - 95ms/step - loss: 1.2279 - mse: 1.2279 - val_loss: 1.2224 - val_mse: 1.2224\n",
            "Epoch 14/100\n",
            "16/16 - 2s - 140ms/step - loss: 1.2381 - mse: 1.2381 - val_loss: 1.2281 - val_mse: 1.2281\n",
            "Epoch 15/100\n",
            "16/16 - 1s - 57ms/step - loss: 1.2278 - mse: 1.2278 - val_loss: 1.2222 - val_mse: 1.2222\n",
            "Epoch 16/100\n",
            "16/16 - 1s - 59ms/step - loss: 1.2356 - mse: 1.2356 - val_loss: 1.2232 - val_mse: 1.2232\n",
            "Epoch 17/100\n",
            "16/16 - 1s - 59ms/step - loss: 1.2318 - mse: 1.2318 - val_loss: 1.2292 - val_mse: 1.2292\n",
            "Epoch 18/100\n",
            "16/16 - 1s - 60ms/step - loss: 1.2262 - mse: 1.2262 - val_loss: 1.2108 - val_mse: 1.2108\n",
            "Epoch 19/100\n",
            "16/16 - 1s - 75ms/step - loss: 1.2289 - mse: 1.2289 - val_loss: 1.2268 - val_mse: 1.2268\n",
            "Epoch 20/100\n",
            "16/16 - 1s - 57ms/step - loss: 1.2156 - mse: 1.2156 - val_loss: 1.2343 - val_mse: 1.2343\n",
            "Epoch 21/100\n",
            "16/16 - 1s - 80ms/step - loss: 1.2338 - mse: 1.2338 - val_loss: 1.2173 - val_mse: 1.2173\n",
            "Epoch 22/100\n",
            "16/16 - 1s - 79ms/step - loss: 1.2225 - mse: 1.2225 - val_loss: 1.2240 - val_mse: 1.2240\n",
            "Epoch 23/100\n",
            "16/16 - 1s - 85ms/step - loss: 1.2180 - mse: 1.2180 - val_loss: 1.2222 - val_mse: 1.2222\n",
            "Epoch 24/100\n",
            "16/16 - 1s - 91ms/step - loss: 1.2190 - mse: 1.2190 - val_loss: 1.2232 - val_mse: 1.2232\n",
            "Epoch 25/100\n",
            "16/16 - 2s - 94ms/step - loss: 1.2211 - mse: 1.2211 - val_loss: 1.2218 - val_mse: 1.2218\n",
            "Epoch 26/100\n",
            "16/16 - 2s - 106ms/step - loss: 1.2115 - mse: 1.2115 - val_loss: 1.2278 - val_mse: 1.2278\n",
            "Epoch 27/100\n",
            "16/16 - 2s - 109ms/step - loss: 1.2113 - mse: 1.2113 - val_loss: 1.2457 - val_mse: 1.2457\n",
            "Epoch 28/100\n",
            "16/16 - 1s - 79ms/step - loss: 1.2101 - mse: 1.2101 - val_loss: 1.2129 - val_mse: 1.2129\n",
            "dict_keys(['loss', 'mse', 'val_loss', 'val_mse'])\n"
          ]
        },
        {
          "output_type": "display_data",
          "data": {
            "text/plain": [
              "<Figure size 640x480 with 1 Axes>"
            ],
            "image/png": "[encoded data removed]"
          },
          "metadata": {}
        },
        {
          "output_type": "stream",
          "name": "stderr",
          "text": [
            "/usr/local/lib/python3.11/dist-packages/keras/src/layers/convolutional/base_conv.py:107: UserWarning: Do not pass an `input_shape`/`input_dim` argument to a layer. When using Sequential models, prefer using an `Input(shape)` object as the first layer in the model instead.\n",
            "  super().__init__(activity_regularizer=activity_regularizer, **kwargs)\n"
          ]
        },
        {
          "output_type": "display_data",
          "data": {
            "text/plain": [
              "\u001b[1mModel: \"sequential_4\"\u001b[0m\n"
            ],
            "text/html": [
              "<pre style=\"white-space:pre;overflow-x:auto;line-height:normal;font-family:Menlo,'DejaVu Sans Mono',consolas,'Courier New',monospace\"><span style=\"font-weight: bold\">Model: \"sequential_4\"</span>\n",
              "</pre>\n"
            ]
          },
          "metadata": {}
        },
        {
          "output_type": "display_data",
          "data": {
            "text/plain": [
              "┏━━━━━━━━━━━━━━━━━━━━━━━━━━━━━━━━━━━━━━┳━━━━━━━━━━━━━━━━━━━━━━━━━━━━━┳━━━━━━━━━━━━━━━━━┓\n",
              "┃\u001b[1m \u001b[0m\u001b[1mLayer (type)                        \u001b[0m\u001b[1m \u001b[0m┃\u001b[1m \u001b[0m\u001b[1mOutput Shape               \u001b[0m\u001b[1m \u001b[0m┃\u001b[1m \u001b[0m\u001b[1m        Param #\u001b[0m\u001b[1m \u001b[0m┃\n",
              "┡━━━━━━━━━━━━━━━━━━━━━━━━━━━━━━━━━━━━━━╇━━━━━━━━━━━━━━━━━━━━━━━━━━━━━╇━━━━━━━━━━━━━━━━━┩\n",
              "│ conv1d_1 (\u001b[38;5;33mConv1D\u001b[0m)                    │ (\u001b[38;5;45mNone\u001b[0m, \u001b[38;5;34m48\u001b[0m, \u001b[38;5;34m32\u001b[0m)              │             \u001b[38;5;34m320\u001b[0m │\n",
              "├──────────────────────────────────────┼─────────────────────────────┼─────────────────┤\n",
              "│ max_pooling1d_1 (\u001b[38;5;33mMaxPooling1D\u001b[0m)       │ (\u001b[38;5;45mNone\u001b[0m, \u001b[38;5;34m24\u001b[0m, \u001b[38;5;34m32\u001b[0m)              │               \u001b[38;5;34m0\u001b[0m │\n",
              "├──────────────────────────────────────┼─────────────────────────────┼─────────────────┤\n",
              "│ flatten_1 (\u001b[38;5;33mFlatten\u001b[0m)                  │ (\u001b[38;5;45mNone\u001b[0m, \u001b[38;5;34m768\u001b[0m)                 │               \u001b[38;5;34m0\u001b[0m │\n",
              "├──────────────────────────────────────┼─────────────────────────────┼─────────────────┤\n",
              "│ dense_5 (\u001b[38;5;33mDense\u001b[0m)                      │ (\u001b[38;5;45mNone\u001b[0m, \u001b[38;5;34m10\u001b[0m)                  │           \u001b[38;5;34m7,690\u001b[0m │\n",
              "├──────────────────────────────────────┼─────────────────────────────┼─────────────────┤\n",
              "│ dropout_7 (\u001b[38;5;33mDropout\u001b[0m)                  │ (\u001b[38;5;45mNone\u001b[0m, \u001b[38;5;34m10\u001b[0m)                  │               \u001b[38;5;34m0\u001b[0m │\n",
              "├──────────────────────────────────────┼─────────────────────────────┼─────────────────┤\n",
              "│ dense_6 (\u001b[38;5;33mDense\u001b[0m)                      │ (\u001b[38;5;45mNone\u001b[0m, \u001b[38;5;34m1\u001b[0m)                   │              \u001b[38;5;34m11\u001b[0m │\n",
              "├──────────────────────────────────────┼─────────────────────────────┼─────────────────┤\n",
              "│ activation_4 (\u001b[38;5;33mActivation\u001b[0m)            │ (\u001b[38;5;45mNone\u001b[0m, \u001b[38;5;34m1\u001b[0m)                   │               \u001b[38;5;34m0\u001b[0m │\n",
              "└──────────────────────────────────────┴─────────────────────────────┴─────────────────┘\n"
            ],
            "text/html": [
              "<pre style=\"white-space:pre;overflow-x:auto;line-height:normal;font-family:Menlo,'DejaVu Sans Mono',consolas,'Courier New',monospace\">┏━━━━━━━━━━━━━━━━━━━━━━━━━━━━━━━━━━━━━━┳━━━━━━━━━━━━━━━━━━━━━━━━━━━━━┳━━━━━━━━━━━━━━━━━┓\n",
              "┃<span style=\"font-weight: bold\"> Layer (type)                         </span>┃<span style=\"font-weight: bold\"> Output Shape                </span>┃<span style=\"font-weight: bold\">         Param # </span>┃\n",
              "┡━━━━━━━━━━━━━━━━━━━━━━━━━━━━━━━━━━━━━━╇━━━━━━━━━━━━━━━━━━━━━━━━━━━━━╇━━━━━━━━━━━━━━━━━┩\n",
              "│ conv1d_1 (<span style=\"color: #0087ff; text-decoration-color: #0087ff\">Conv1D</span>)                    │ (<span style=\"color: #00d7ff; text-decoration-color: #00d7ff\">None</span>, <span style=\"color: #00af00; text-decoration-color: #00af00\">48</span>, <span style=\"color: #00af00; text-decoration-color: #00af00\">32</span>)              │             <span style=\"color: #00af00; text-decoration-color: #00af00\">320</span> │\n",
              "├──────────────────────────────────────┼─────────────────────────────┼─────────────────┤\n",
              "│ max_pooling1d_1 (<span style=\"color: #0087ff; text-decoration-color: #0087ff\">MaxPooling1D</span>)       │ (<span style=\"color: #00d7ff; text-decoration-color: #00d7ff\">None</span>, <span style=\"color: #00af00; text-decoration-color: #00af00\">24</span>, <span style=\"color: #00af00; text-decoration-color: #00af00\">32</span>)              │               <span style=\"color: #00af00; text-decoration-color: #00af00\">0</span> │\n",
              "├──────────────────────────────────────┼─────────────────────────────┼─────────────────┤\n",
              "│ flatten_1 (<span style=\"color: #0087ff; text-decoration-color: #0087ff\">Flatten</span>)                  │ (<span style=\"color: #00d7ff; text-decoration-color: #00d7ff\">None</span>, <span style=\"color: #00af00; text-decoration-color: #00af00\">768</span>)                 │               <span style=\"color: #00af00; text-decoration-color: #00af00\">0</span> │\n",
              "├──────────────────────────────────────┼─────────────────────────────┼─────────────────┤\n",
              "│ dense_5 (<span style=\"color: #0087ff; text-decoration-color: #0087ff\">Dense</span>)                      │ (<span style=\"color: #00d7ff; text-decoration-color: #00d7ff\">None</span>, <span style=\"color: #00af00; text-decoration-color: #00af00\">10</span>)                  │           <span style=\"color: #00af00; text-decoration-color: #00af00\">7,690</span> │\n",
              "├──────────────────────────────────────┼─────────────────────────────┼─────────────────┤\n",
              "│ dropout_7 (<span style=\"color: #0087ff; text-decoration-color: #0087ff\">Dropout</span>)                  │ (<span style=\"color: #00d7ff; text-decoration-color: #00d7ff\">None</span>, <span style=\"color: #00af00; text-decoration-color: #00af00\">10</span>)                  │               <span style=\"color: #00af00; text-decoration-color: #00af00\">0</span> │\n",
              "├──────────────────────────────────────┼─────────────────────────────┼─────────────────┤\n",
              "│ dense_6 (<span style=\"color: #0087ff; text-decoration-color: #0087ff\">Dense</span>)                      │ (<span style=\"color: #00d7ff; text-decoration-color: #00d7ff\">None</span>, <span style=\"color: #00af00; text-decoration-color: #00af00\">1</span>)                   │              <span style=\"color: #00af00; text-decoration-color: #00af00\">11</span> │\n",
              "├──────────────────────────────────────┼─────────────────────────────┼─────────────────┤\n",
              "│ activation_4 (<span style=\"color: #0087ff; text-decoration-color: #0087ff\">Activation</span>)            │ (<span style=\"color: #00d7ff; text-decoration-color: #00d7ff\">None</span>, <span style=\"color: #00af00; text-decoration-color: #00af00\">1</span>)                   │               <span style=\"color: #00af00; text-decoration-color: #00af00\">0</span> │\n",
              "└──────────────────────────────────────┴─────────────────────────────┴─────────────────┘\n",
              "</pre>\n"
            ]
          },
          "metadata": {}
        },
        {
          "output_type": "display_data",
          "data": {
            "text/plain": [
              "\u001b[1m Total params: \u001b[0m\u001b[38;5;34m8,021\u001b[0m (31.33 KB)\n"
            ],
            "text/html": [
              "<pre style=\"white-space:pre;overflow-x:auto;line-height:normal;font-family:Menlo,'DejaVu Sans Mono',consolas,'Courier New',monospace\"><span style=\"font-weight: bold\"> Total params: </span><span style=\"color: #00af00; text-decoration-color: #00af00\">8,021</span> (31.33 KB)\n",
              "</pre>\n"
            ]
          },
          "metadata": {}
        },
        {
          "output_type": "display_data",
          "data": {
            "text/plain": [
              "\u001b[1m Trainable params: \u001b[0m\u001b[38;5;34m8,021\u001b[0m (31.33 KB)\n"
            ],
            "text/html": [
              "<pre style=\"white-space:pre;overflow-x:auto;line-height:normal;font-family:Menlo,'DejaVu Sans Mono',consolas,'Courier New',monospace\"><span style=\"font-weight: bold\"> Trainable params: </span><span style=\"color: #00af00; text-decoration-color: #00af00\">8,021</span> (31.33 KB)\n",
              "</pre>\n"
            ]
          },
          "metadata": {}
        },
        {
          "output_type": "display_data",
          "data": {
            "text/plain": [
              "\u001b[1m Non-trainable params: \u001b[0m\u001b[38;5;34m0\u001b[0m (0.00 B)\n"
            ],
            "text/html": [
              "<pre style=\"white-space:pre;overflow-x:auto;line-height:normal;font-family:Menlo,'DejaVu Sans Mono',consolas,'Courier New',monospace\"><span style=\"font-weight: bold\"> Non-trainable params: </span><span style=\"color: #00af00; text-decoration-color: #00af00\">0</span> (0.00 B)\n",
              "</pre>\n"
            ]
          },
          "metadata": {}
        },
        {
          "output_type": "stream",
          "name": "stdout",
          "text": [
            "None\n",
            "Epoch 1/100\n",
            "16/16 - 2s - 133ms/step - loss: 285.0819 - mse: 285.0819 - val_loss: 1.2506 - val_mse: 1.2506\n",
            "Epoch 2/100\n",
            "16/16 - 0s - 23ms/step - loss: 9.3042 - mse: 9.3042 - val_loss: 2.9502 - val_mse: 2.9502\n",
            "Epoch 3/100\n",
            "16/16 - 0s - 19ms/step - loss: 2.3326 - mse: 2.3326 - val_loss: 2.9456 - val_mse: 2.9456\n",
            "Epoch 4/100\n",
            "16/16 - 0s - 21ms/step - loss: 2.3277 - mse: 2.3277 - val_loss: 2.9382 - val_mse: 2.9382\n",
            "Epoch 5/100\n",
            "16/16 - 1s - 38ms/step - loss: 2.3213 - mse: 2.3213 - val_loss: 2.9294 - val_mse: 2.9294\n",
            "Epoch 6/100\n",
            "16/16 - 1s - 36ms/step - loss: 2.3138 - mse: 2.3138 - val_loss: 2.9197 - val_mse: 2.9197\n",
            "Epoch 7/100\n",
            "16/16 - 0s - 19ms/step - loss: 2.3057 - mse: 2.3057 - val_loss: 2.9091 - val_mse: 2.9091\n",
            "Epoch 8/100\n",
            "16/16 - 0s - 27ms/step - loss: 2.2969 - mse: 2.2969 - val_loss: 2.8977 - val_mse: 2.8977\n",
            "Epoch 9/100\n",
            "16/16 - 1s - 31ms/step - loss: 2.2877 - mse: 2.2877 - val_loss: 2.8859 - val_mse: 2.8859\n",
            "Epoch 10/100\n",
            "16/16 - 0s - 19ms/step - loss: 2.2780 - mse: 2.2780 - val_loss: 2.8734 - val_mse: 2.8734\n",
            "Epoch 11/100\n",
            "16/16 - 1s - 40ms/step - loss: 2.2679 - mse: 2.2679 - val_loss: 2.8605 - val_mse: 2.8605\n",
            "dict_keys(['loss', 'mse', 'val_loss', 'val_mse'])\n"
          ]
        },
        {
          "output_type": "display_data",
          "data": {
            "text/plain": [
              "<Figure size 640x480 with 1 Axes>"
            ],
            "image/png": "[encoded data removed]"
          },
          "metadata": {}
        }
      ],
      "source": [
        "# show me how one or two of your different models perform\n",
        "# using the code from the \"Validating our model\" section above\n",
        "# Increased sequence length\n",
        "seq_length = 50\n",
        "ph = 5  # Predictive horizon\n",
        "feat_cols = ['Global_active_power', 'Voltage', 'Global_reactive_power']  # Added more variables\n",
        "\n",
        "for i in range(len(train_df) - seq_length - ph + 1):\n",
        "    seq_input = train_df.loc[i: i + seq_length - 1, feat_cols].values\n",
        "    seq_arrays.append(seq_input)\n",
        "    label = train_df.loc[i + seq_length + ph - 1, 'Global_active_power']\n",
        "    seq_labs.append(label)\n",
        "\n",
        "seq_arrays = np.array(seq_arrays, dtype=object).astype(np.float32)\n",
        "seq_labs = np.array(seq_labs, dtype=object).astype(np.float32)\n",
        "\n",
        "assert seq_arrays.shape == (len(train_df) - seq_length - ph + 1, seq_length, len(feat_cols))\n",
        "assert seq_labs.shape == (len(train_df) - seq_length - ph + 1,)\n",
        "\n",
        "# Model 1: Modified LSTM architecture\n",
        "model1 = Sequential()\n",
        "model1.add(LSTM(input_shape=(seq_length, len(feat_cols)), units=10, return_sequences=True))\n",
        "model1.add(Dropout(0.2))\n",
        "model1.add(LSTM(units=5, return_sequences=False))\n",
        "model1.add(Dropout(0.2))\n",
        "model1.add(Dense(units=1))\n",
        "model1.add(Activation('linear'))\n",
        "# Modified learning rate\n",
        "optimizer = keras.optimizers.Adam(learning_rate=0.001)\n",
        "model1.compile(loss='mean_squared_error', optimizer=optimizer, metrics=['mse'])\n",
        "\n",
        "print(model1.summary())\n",
        "\n",
        "# Fitting the modified LSTM model\n",
        "history1 = model1.fit(seq_arrays, seq_labs, epochs=100, batch_size=500, validation_split=0.05, verbose=2,\n",
        "                      callbacks=[keras.callbacks.EarlyStopping(monitor='val_loss', min_delta=0, patience=10, verbose=0, mode='min'),\n",
        "                                 keras.callbacks.ModelCheckpoint('LSTM_model1.keras', monitor='val_loss', save_best_only=True, mode='min', verbose=0)])\n",
        "\n",
        "# List all data in history\n",
        "print(history1.history.keys())\n",
        "\n",
        "# Summarize history for Loss/MSE\n",
        "plt.plot(history1.history['loss'])\n",
        "plt.plot(history1.history['val_loss'])\n",
        "plt.title('Model 1 Loss/MSE')\n",
        "plt.ylabel('Loss')\n",
        "plt.xlabel('Epoch')\n",
        "plt.legend(['Train', 'Validation'], loc='upper left')\n",
        "plt.show()\n",
        "\n",
        "# Model 2: LSTM with Conv1D layer\n",
        "model2 = Sequential()\n",
        "model2.add(Conv1D(filters=32, kernel_size=3, activation='relu', input_shape=(seq_length, len(feat_cols))))\n",
        "model2.add(MaxPooling1D(pool_size=2))\n",
        "model2.add(Flatten())\n",
        "model2.add(Dense(units=10, activation='relu'))\n",
        "model2.add(Dropout(0.2))\n",
        "model2.add(Dense(units=1))\n",
        "model2.add(Activation('linear'))\n",
        "\n",
        "optimizer = keras.optimizers.Adam(learning_rate=0.001)  # Modified learning rate\n",
        "model2.compile(loss='mean_squared_error', optimizer=optimizer, metrics=['mse'])\n",
        "\n",
        "print(model2.summary())\n",
        "\n",
        "# Fitting the Conv1D + LSTM model\n",
        "history2 = model2.fit(seq_arrays, seq_labs, epochs=100, batch_size=500, validation_split=0.05, verbose=2,\n",
        "                      callbacks=[keras.callbacks.EarlyStopping(monitor='val_loss', min_delta=0, patience=10, verbose=0, mode='min'),\n",
        "                                 keras.callbacks.ModelCheckpoint('ConvLSTM_model2.keras', monitor='val_loss', save_best_only=True, mode='min', verbose=0)])\n",
        "\n",
        "# List all data in history\n",
        "print(history2.history.keys())\n",
        "\n",
        "# Summarize history for Loss/MSE\n",
        "plt.plot(history2.history['loss'])\n",
        "plt.plot(history2.history['val_loss'])\n",
        "plt.title('Model 2 Loss/MSE')\n",
        "plt.ylabel('Loss')\n",
        "plt.xlabel('Epoch')\n",
        "plt.legend(['Train', 'Validation'], loc='upper left')\n",
        "plt.show()\n",
        "\n",
        "# show me how one or two of your different models perform using the code from the \"Validating our model\" section above\n"
      ]
    },
    {
      "cell_type": "code",
      "execution_count": null,
      "id": "d22b9a0b",
      "metadata": {
        "id": "d22b9a0b"
      },
      "outputs": [],
      "source": [
        "\n"
      ]
    },
    {
      "cell_type": "markdown",
      "id": "c3ccb037",
      "metadata": {
        "id": "c3ccb037"
      },
      "source": [
        "**Q: How did your model changes affect performance on the validation data? Why do you think they were/were not effective? If you were trying to optimize for production, what would you try next?**\n",
        "\n",
        "A:Linear regression is ideal, however since it has both upper bound and lower boudn  considering performance of edge device , would not prefer complex model like LSTM as it is computationaly intensive, when opened all data it crashed, however as the data is non-linear, would prefere in cloud than on edge. There seems some models like xLSTM however after the nerual networks paper it would help.\n",
        "\n",
        "**Q: How did the models that you built in this assignment compare to the linear regression model from last week? Think about model performance and other IoT device considerations; Which model would you choose to use in an IoT system that predicts GAP for a single household with a 5-minute predictive horizon, and why?**\n",
        "\n",
        "A: in the IOT System LSTM for accuracy ,if we consider IOT device consideration, would go for linear regression,\n",
        "\n",
        "While LSTM models are powerful for capturing long-term dependencies, their complexity and computational demands make Conv1D a more practical choice for your specific IoT scenario. Conv1D strikes a balance between performance and efficiency, considering scalability, flexibility and local patterns / trends"
      ]
    },
    {
      "cell_type": "code",
      "source": [],
      "metadata": {
        "id": "wC5UOiUtqSUF"
      },
      "id": "wC5UOiUtqSUF",
      "execution_count": 22,
      "outputs": []
    }
  ],
  "metadata": {
    "kernelspec": {
      "display_name": "Python 3",
      "name": "python3"
    },
    "language_info": {
      "codemirror_mode": {
        "name": "ipython",
        "version": 3
      },
      "file_extension": ".py",
      "mimetype": "text/x-python",
      "name": "python",
      "nbconvert_exporter": "python",
      "pygments_lexer": "ipython3",
      "version": "3.12.2"
    },
    "colab": {
      "provenance": []
    }
  },
  "nbformat": 4,
  "nbformat_minor": 5
}